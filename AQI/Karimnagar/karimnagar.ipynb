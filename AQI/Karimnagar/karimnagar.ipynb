{
 "cells": [
  {
   "cell_type": "markdown",
   "metadata": {},
   "source": [
    "### Importing libraries"
   ]
  },
  {
   "cell_type": "code",
   "execution_count": 30,
   "metadata": {},
   "outputs": [],
   "source": [
    "import pandas as pd\n",
    "from sklearn.preprocessing import StandardScaler\n",
    "from sklearn.ensemble import RandomForestRegressor\n",
    "from sklearn.svm import SVR\n",
    "from sklearn.linear_model import LinearRegression,Ridge,Lasso\n",
    "from sklearn.model_selection import GridSearchCV,cross_val_score\n",
    "from sklearn.metrics import r2_score\n",
    "import warnings\n",
    "warnings.filterwarnings(\"ignore\")\n",
    "import numpy as np\n",
    "from sklearn.metrics import mean_absolute_percentage_error,mean_squared_error,mean_absolute_error"
   ]
  },
  {
   "cell_type": "markdown",
   "metadata": {},
   "source": [
    "### Importing Datasets"
   ]
  },
  {
   "cell_type": "code",
   "execution_count": 31,
   "metadata": {},
   "outputs": [],
   "source": [
    "krm_so2=pd.read_excel(r'Karimnagar_so2.xlsx')\n",
    "krm_nox=pd.read_excel(r'Karimnagar_no2.xlsx')\n",
    "krm_pm10=pd.read_excel(r'Karimnagar_PM10.xlsx')\n",
    "krm_aqi=pd.read_excel(r'Karimnagar_aqi.xlsx')"
   ]
  },
  {
   "cell_type": "markdown",
   "metadata": {},
   "source": [
    "### Filling the null values row-wise as there seems to more yearly relation than monthly relation for each pollutant"
   ]
  },
  {
   "cell_type": "code",
   "execution_count": 32,
   "metadata": {},
   "outputs": [],
   "source": [
    "for i in range(0,7):\n",
    "    krm_so2.iloc[i,1:]=krm_so2.iloc[i,1:].fillna(krm_so2.iloc[i,1:].mean())\n",
    "    krm_nox.iloc[i,1:]=krm_nox.iloc[i,1:].fillna(krm_nox.iloc[i,1:].mean())\n",
    "    krm_pm10.iloc[i,1:]=krm_pm10.iloc[i,1:].fillna(krm_pm10.iloc[i,1:].mean())\n",
    "    krm_aqi.iloc[i,1:]=krm_aqi.iloc[i,1:].fillna(krm_aqi.iloc[i,1:].mean())"
   ]
  },
  {
   "cell_type": "markdown",
   "metadata": {},
   "source": [
    "### Reorganizing the data for a combined dataset."
   ]
  },
  {
   "cell_type": "code",
   "execution_count": 33,
   "metadata": {},
   "outputs": [],
   "source": [
    "krm_so2 = krm_so2.melt(id_vars=[\"Year\"], var_name=\"Month\", value_name=\"SO2\")\n",
    "krm_nox = krm_nox.melt(id_vars=[\"Year\"], var_name=\"Month\", value_name=\"NOX\")\n",
    "krm_pm10 = krm_pm10.melt(id_vars=[\"Year\"], var_name=\"Month\", value_name=\"PM10\")\n",
    "krm_aqi = krm_aqi.melt(id_vars=[\"Year\"], var_name=\"Month\", value_name=\"AQI\")"
   ]
  },
  {
   "cell_type": "markdown",
   "metadata": {},
   "source": [
    "### Organizing the data for better model usage"
   ]
  },
  {
   "cell_type": "code",
   "execution_count": 34,
   "metadata": {},
   "outputs": [
    {
     "data": {
      "text/html": [
       "<div>\n",
       "<style scoped>\n",
       "    .dataframe tbody tr th:only-of-type {\n",
       "        vertical-align: middle;\n",
       "    }\n",
       "\n",
       "    .dataframe tbody tr th {\n",
       "        vertical-align: top;\n",
       "    }\n",
       "\n",
       "    .dataframe thead th {\n",
       "        text-align: right;\n",
       "    }\n",
       "</style>\n",
       "<table border=\"1\" class=\"dataframe\">\n",
       "  <thead>\n",
       "    <tr style=\"text-align: right;\">\n",
       "      <th></th>\n",
       "      <th>PM10</th>\n",
       "      <th>NOX</th>\n",
       "      <th>SO2</th>\n",
       "      <th>AQI</th>\n",
       "    </tr>\n",
       "  </thead>\n",
       "  <tbody>\n",
       "    <tr>\n",
       "      <th>2016-01-01</th>\n",
       "      <td>69.0</td>\n",
       "      <td>22.0</td>\n",
       "      <td>8.0</td>\n",
       "      <td>69.222222</td>\n",
       "    </tr>\n",
       "    <tr>\n",
       "      <th>2016-02-01</th>\n",
       "      <td>59.0</td>\n",
       "      <td>25.0</td>\n",
       "      <td>9.0</td>\n",
       "      <td>59.125000</td>\n",
       "    </tr>\n",
       "    <tr>\n",
       "      <th>2016-03-01</th>\n",
       "      <td>42.0</td>\n",
       "      <td>32.1</td>\n",
       "      <td>7.7</td>\n",
       "      <td>44.000000</td>\n",
       "    </tr>\n",
       "    <tr>\n",
       "      <th>2016-04-01</th>\n",
       "      <td>62.0</td>\n",
       "      <td>29.0</td>\n",
       "      <td>7.0</td>\n",
       "      <td>62.194444</td>\n",
       "    </tr>\n",
       "    <tr>\n",
       "      <th>2016-05-01</th>\n",
       "      <td>52.0</td>\n",
       "      <td>21.0</td>\n",
       "      <td>5.0</td>\n",
       "      <td>52.250000</td>\n",
       "    </tr>\n",
       "    <tr>\n",
       "      <th>...</th>\n",
       "      <td>...</td>\n",
       "      <td>...</td>\n",
       "      <td>...</td>\n",
       "      <td>...</td>\n",
       "    </tr>\n",
       "    <tr>\n",
       "      <th>2021-08-01</th>\n",
       "      <td>64.0</td>\n",
       "      <td>32.4</td>\n",
       "      <td>6.9</td>\n",
       "      <td>64.000000</td>\n",
       "    </tr>\n",
       "    <tr>\n",
       "      <th>2021-09-01</th>\n",
       "      <td>66.0</td>\n",
       "      <td>34.7</td>\n",
       "      <td>6.7</td>\n",
       "      <td>65.521923</td>\n",
       "    </tr>\n",
       "    <tr>\n",
       "      <th>2021-10-01</th>\n",
       "      <td>68.0</td>\n",
       "      <td>35.3</td>\n",
       "      <td>7.2</td>\n",
       "      <td>68.000000</td>\n",
       "    </tr>\n",
       "    <tr>\n",
       "      <th>2021-11-01</th>\n",
       "      <td>73.0</td>\n",
       "      <td>34.2</td>\n",
       "      <td>6.8</td>\n",
       "      <td>73.000000</td>\n",
       "    </tr>\n",
       "    <tr>\n",
       "      <th>2021-12-01</th>\n",
       "      <td>83.0</td>\n",
       "      <td>30.9</td>\n",
       "      <td>7.9</td>\n",
       "      <td>82.000000</td>\n",
       "    </tr>\n",
       "  </tbody>\n",
       "</table>\n",
       "<p>72 rows × 4 columns</p>\n",
       "</div>"
      ],
      "text/plain": [
       "            PM10   NOX  SO2        AQI\n",
       "2016-01-01  69.0  22.0  8.0  69.222222\n",
       "2016-02-01  59.0  25.0  9.0  59.125000\n",
       "2016-03-01  42.0  32.1  7.7  44.000000\n",
       "2016-04-01  62.0  29.0  7.0  62.194444\n",
       "2016-05-01  52.0  21.0  5.0  52.250000\n",
       "...          ...   ...  ...        ...\n",
       "2021-08-01  64.0  32.4  6.9  64.000000\n",
       "2021-09-01  66.0  34.7  6.7  65.521923\n",
       "2021-10-01  68.0  35.3  7.2  68.000000\n",
       "2021-11-01  73.0  34.2  6.8  73.000000\n",
       "2021-12-01  83.0  30.9  7.9  82.000000\n",
       "\n",
       "[72 rows x 4 columns]"
      ]
     },
     "execution_count": 34,
     "metadata": {},
     "output_type": "execute_result"
    }
   ],
   "source": [
    "krm_poll = pd.merge(krm_pm10, krm_nox, on=['Month','Year'])\n",
    "krm_poll = pd.merge(krm_poll, krm_so2, on=['Month','Year'])\n",
    "krm_final=pd.merge(krm_poll,krm_aqi,on=['Month','Year'])\n",
    "krm_final.index = pd.to_datetime(krm_final['Year'].astype(str) + '-' + krm_final['Month'], format='%Y-%b')\n",
    "krm_final.drop(['Year', 'Month'], axis=1, inplace=True)\n",
    "krm_final=krm_final.sort_index()\n",
    "krm_final['2016':'2021']"
   ]
  },
  {
   "cell_type": "markdown",
   "metadata": {},
   "source": [
    "### Test Train Split"
   ]
  },
  {
   "cell_type": "code",
   "execution_count": 35,
   "metadata": {},
   "outputs": [],
   "source": [
    "X_=krm_final.iloc[:,:-1]\n",
    "y=krm_final.iloc[:,-1]"
   ]
  },
  {
   "cell_type": "code",
   "execution_count": 36,
   "metadata": {},
   "outputs": [],
   "source": [
    "#Scalling the Data to improve model perfomance and bring features into similar range\n",
    "ss=StandardScaler()\n",
    "X=ss.fit_transform(X_)\n",
    "X=pd.DataFrame(X,columns=krm_final.columns[:-1])"
   ]
  },
  {
   "cell_type": "code",
   "execution_count": 37,
   "metadata": {},
   "outputs": [],
   "source": [
    "from sklearn.model_selection import train_test_split\n",
    "X_train,X_test,y_train,y_test=train_test_split(X,y,random_state=66,test_size=0.25)"
   ]
  },
  {
   "cell_type": "markdown",
   "metadata": {},
   "source": [
    "### Perfoming Hyper-parameter tuning with comparison with other models"
   ]
  },
  {
   "cell_type": "code",
   "execution_count": 38,
   "metadata": {},
   "outputs": [],
   "source": [
    "#Listing Parameters\n",
    "\n",
    "rf_params = {'n_estimators': [500,300,100,800,1000], 'max_depth': [12,15,10,5,7,3]}\n",
    "\n",
    "lr_param_grid = {}\n",
    "\n",
    "svr_param_grid = {'kernel': ['linear', 'rbf'], 'C': [0.1, 1, 10], 'gamma': [0.1, 1, 10]}"
   ]
  },
  {
   "cell_type": "code",
   "execution_count": 39,
   "metadata": {},
   "outputs": [],
   "source": [
    "# create models\n",
    "rf_model = RandomForestRegressor(random_state=42)\n",
    "lr_model = LinearRegression()\n",
    "svr_model = SVR()"
   ]
  },
  {
   "cell_type": "code",
   "execution_count": 40,
   "metadata": {},
   "outputs": [],
   "source": [
    "# create GridSearchCV objects\n",
    "rf_grid = GridSearchCV(rf_model, rf_params, cv=5)\n",
    "lr_grid = GridSearchCV(lr_model, lr_param_grid)\n",
    "svr_grid = GridSearchCV(svr_model, svr_param_grid)"
   ]
  },
  {
   "cell_type": "code",
   "execution_count": 41,
   "metadata": {},
   "outputs": [
    {
     "data": {
      "text/plain": [
       "GridSearchCV(estimator=SVR(),\n",
       "             param_grid={'C': [0.1, 1, 10], 'gamma': [0.1, 1, 10],\n",
       "                         'kernel': ['linear', 'rbf']})"
      ]
     },
     "execution_count": 41,
     "metadata": {},
     "output_type": "execute_result"
    }
   ],
   "source": [
    "# fit the models\n",
    "rf_grid.fit(X_train, y_train)\n",
    "lr_grid.fit(X_train, y_train)\n",
    "svr_grid.fit(X_train, y_train)"
   ]
  },
  {
   "cell_type": "code",
   "execution_count": 42,
   "metadata": {},
   "outputs": [],
   "source": [
    "# get the best hyperparameters\n",
    "rf_best_params = rf_grid.best_params_\n",
    "lr_best_params = lr_grid.best_params_\n",
    "svr_best_params = svr_grid.best_params_"
   ]
  },
  {
   "cell_type": "code",
   "execution_count": 43,
   "metadata": {},
   "outputs": [],
   "source": [
    "# create new models with the best hyperparameters\n",
    "rf_best_model = RandomForestRegressor(**rf_best_params, random_state=42)\n",
    "lr_best_model = LinearRegression(**lr_best_params)\n",
    "svr_best_model = SVR(**svr_best_params)"
   ]
  },
  {
   "cell_type": "code",
   "execution_count": 44,
   "metadata": {},
   "outputs": [
    {
     "data": {
      "text/plain": [
       "SVR(C=10, gamma=0.1, kernel='linear')"
      ]
     },
     "execution_count": 44,
     "metadata": {},
     "output_type": "execute_result"
    }
   ],
   "source": [
    "# fit the best models\n",
    "rf_best_model.fit(X_train, y_train)\n",
    "lr_best_model.fit(X_train, y_train)\n",
    "svr_best_model.fit(X_train, y_train)"
   ]
  },
  {
   "cell_type": "code",
   "execution_count": 45,
   "metadata": {},
   "outputs": [],
   "source": [
    "# make predictions\n",
    "rf_preds = rf_best_model.predict(X_test)\n",
    "lr_preds = lr_best_model.predict(X_test)\n",
    "svr_preds = svr_best_model.predict(X_test)"
   ]
  },
  {
   "cell_type": "markdown",
   "metadata": {},
   "source": [
    "### Checking individual model performace"
   ]
  },
  {
   "cell_type": "code",
   "execution_count": 46,
   "metadata": {},
   "outputs": [
    {
     "name": "stdout",
     "output_type": "stream",
     "text": [
      "Random Forest R2 Score: 0.989805391447411\n",
      "Linear Regression R2 Score: 0.9949182880159755\n",
      "Support Vector Regressor R2 Score: 0.9954504094053316\n"
     ]
    }
   ],
   "source": [
    "# calculate r2 scores\n",
    "\n",
    "rf_r2 = r2_score(y_test, rf_preds)\n",
    "print(f\"Random Forest R2 Score: {rf_r2}\")\n",
    "\n",
    "lr_r2 = r2_score(y_test, lr_preds)\n",
    "print(f\"Linear Regression R2 Score: {lr_r2}\")\n",
    "\n",
    "svr_r2 = r2_score(y_test, svr_preds)\n",
    "print(f\"Support Vector Regressor R2 Score: {svr_r2}\")"
   ]
  },
  {
   "cell_type": "markdown",
   "metadata": {},
   "source": [
    "### Checking Ridge and Lasso Regression and cross validation to prevent overfitting"
   ]
  },
  {
   "cell_type": "code",
   "execution_count": 47,
   "metadata": {},
   "outputs": [],
   "source": [
    "lr = LinearRegression()\n",
    "ridge = Ridge()\n",
    "lasso = Lasso()\n",
    "rf = RandomForestRegressor()\n",
    "svr = SVR()\n",
    "\n",
    "lr_params = {'normalize': [True, False]}\n",
    "ridge_params = {'alpha': [0.01, 0.1, 1, 10, 100]}\n",
    "lasso_params = {'alpha': [0.01, 0.1, 1, 10, 100]}\n",
    "rf_params = {'n_estimators': [500,300,100,800,1000], 'max_depth':[12,15,10,5,7,3] }\n",
    "svr_params = {'C': [0.1, 1, 10], 'gamma': [0.1, 1, 10], 'kernel': ['linear', 'rbf']}"
   ]
  },
  {
   "cell_type": "code",
   "execution_count": 48,
   "metadata": {},
   "outputs": [],
   "source": [
    "models = {'Linear Regression': (lr, lr_params),\n",
    "          'Ridge Regression': (ridge, ridge_params),\n",
    "          'Lasso Regression': (lasso, lasso_params),\n",
    "          'Random Forest Regression': (rf, rf_params),\n",
    "          'Support Vector Regression': (svr, svr_params)}"
   ]
  },
  {
   "cell_type": "code",
   "execution_count": 49,
   "metadata": {},
   "outputs": [
    {
     "name": "stdout",
     "output_type": "stream",
     "text": [
      "Linear Regression: 0.986 (±0.002)\n",
      "Ridge Regression: 0.988 (±0.001)\n",
      "Lasso Regression: 0.989 (±0.002)\n",
      "Random Forest Regression: 0.815 (±0.077)\n",
      "Support Vector Regression: 0.989 (±0.003)\n"
     ]
    }
   ],
   "source": [
    "models = {'Linear Regression': (lr, lr_params),\n",
    "          'Ridge Regression': (ridge, ridge_params),\n",
    "          'Lasso Regression': (lasso, lasso_params),\n",
    "          'Random Forest Regression': (rf, rf_params),\n",
    "          'Support Vector Regression': (svr, svr_params)}\n",
    "for name, (model, params) in models.items():\n",
    "    gs = GridSearchCV(model, params, cv=2,n_jobs=-1)\n",
    "    scores = cross_val_score(gs, X_test, y_test, cv=2, scoring='r2')\n",
    "    print(f'{name}: {scores.mean():.3f} (±{scores.std():.3f})')"
   ]
  },
  {
   "cell_type": "markdown",
   "metadata": {},
   "source": [
    "### Performing ensemble methods and full model accuracy"
   ]
  },
  {
   "cell_type": "code",
   "execution_count": 50,
   "metadata": {},
   "outputs": [],
   "source": [
    "import numpy as np\n",
    "f_pred=[]\n",
    "f_pred.append((rf_preds+lr_preds+svr_preds)/3)\n",
    "f_pred=np.array(f_pred)\n",
    "f_pred=f_pred.reshape(-1,1)"
   ]
  },
  {
   "cell_type": "code",
   "execution_count": 51,
   "metadata": {},
   "outputs": [
    {
     "name": "stdout",
     "output_type": "stream",
     "text": [
      " R2 Score: 0.9957776957821972\n",
      " Mean Absolute Percentage Error: 0.017272635028228244\n",
      "Mean Squared Error : 0.017272635028228244\n"
     ]
    }
   ],
   "source": [
    "rr2 = r2_score(y_test, f_pred)\n",
    "print(f\" R2 Score: {rr2}\")\n",
    "\n",
    "mape = mean_absolute_percentage_error(y_test, f_pred)\n",
    "print(f\" Mean Absolute Percentage Error: {mape}\")\n",
    "\n",
    "mse=mean_squared_error(y_test,f_pred)\n",
    "print(f\"Mean Squared Error : {mape}\")\n"
   ]
  },
  {
   "cell_type": "markdown",
   "metadata": {},
   "source": [
    "### Final Predictions\n"
   ]
  },
  {
   "cell_type": "code",
   "execution_count": 52,
   "metadata": {},
   "outputs": [],
   "source": [
    "loc=[]\n",
    "for i in f_pred:\n",
    "    if (i>=0) and i<=50:\n",
    "        loc.append('Good')\n",
    "    elif i>=51 and i<=100:\n",
    "        loc.append('Moderate')\n",
    "    elif i>=101 and i<=150:\n",
    "        loc.append('Unhealthy for Sensitive Groups')\n",
    "    elif i>=151 and i<=200:\n",
    "        loc.append('Unhealthy')\n",
    "    elif i>=201 and i<=300:\n",
    "        loc.append('Very Unhealthy')\n",
    "    else:\n",
    "        loc.append('Hazardous')\n",
    "y_test=pd.DataFrame(y_test)\n",
    "y_test['Level of Concern']=loc"
   ]
  },
  {
   "cell_type": "code",
   "execution_count": 53,
   "metadata": {},
   "outputs": [
    {
     "data": {
      "text/html": [
       "<div>\n",
       "<style scoped>\n",
       "    .dataframe tbody tr th:only-of-type {\n",
       "        vertical-align: middle;\n",
       "    }\n",
       "\n",
       "    .dataframe tbody tr th {\n",
       "        vertical-align: top;\n",
       "    }\n",
       "\n",
       "    .dataframe thead th {\n",
       "        text-align: right;\n",
       "    }\n",
       "</style>\n",
       "<table border=\"1\" class=\"dataframe\">\n",
       "  <thead>\n",
       "    <tr style=\"text-align: right;\">\n",
       "      <th></th>\n",
       "      <th>AQI</th>\n",
       "      <th>Level of Concern</th>\n",
       "    </tr>\n",
       "  </thead>\n",
       "  <tbody>\n",
       "    <tr>\n",
       "      <th>2019-08-01</th>\n",
       "      <td>99.375000</td>\n",
       "      <td>Moderate</td>\n",
       "    </tr>\n",
       "    <tr>\n",
       "      <th>2021-09-01</th>\n",
       "      <td>65.521923</td>\n",
       "      <td>Moderate</td>\n",
       "    </tr>\n",
       "    <tr>\n",
       "      <th>2017-04-01</th>\n",
       "      <td>78.851852</td>\n",
       "      <td>Moderate</td>\n",
       "    </tr>\n",
       "    <tr>\n",
       "      <th>2018-10-01</th>\n",
       "      <td>97.777778</td>\n",
       "      <td>Moderate</td>\n",
       "    </tr>\n",
       "    <tr>\n",
       "      <th>2019-11-01</th>\n",
       "      <td>104.555556</td>\n",
       "      <td>Unhealthy for Sensitive Groups</td>\n",
       "    </tr>\n",
       "    <tr>\n",
       "      <th>2020-01-01</th>\n",
       "      <td>110.666667</td>\n",
       "      <td>Unhealthy for Sensitive Groups</td>\n",
       "    </tr>\n",
       "    <tr>\n",
       "      <th>2021-11-01</th>\n",
       "      <td>73.000000</td>\n",
       "      <td>Moderate</td>\n",
       "    </tr>\n",
       "    <tr>\n",
       "      <th>2020-05-01</th>\n",
       "      <td>72.000000</td>\n",
       "      <td>Moderate</td>\n",
       "    </tr>\n",
       "    <tr>\n",
       "      <th>2022-09-01</th>\n",
       "      <td>58.000000</td>\n",
       "      <td>Moderate</td>\n",
       "    </tr>\n",
       "    <tr>\n",
       "      <th>2022-02-01</th>\n",
       "      <td>90.333333</td>\n",
       "      <td>Moderate</td>\n",
       "    </tr>\n",
       "    <tr>\n",
       "      <th>2016-04-01</th>\n",
       "      <td>62.194444</td>\n",
       "      <td>Moderate</td>\n",
       "    </tr>\n",
       "    <tr>\n",
       "      <th>2022-12-01</th>\n",
       "      <td>126.000000</td>\n",
       "      <td>Unhealthy for Sensitive Groups</td>\n",
       "    </tr>\n",
       "    <tr>\n",
       "      <th>2021-03-01</th>\n",
       "      <td>69.000000</td>\n",
       "      <td>Moderate</td>\n",
       "    </tr>\n",
       "    <tr>\n",
       "      <th>2016-09-01</th>\n",
       "      <td>31.000000</td>\n",
       "      <td>Good</td>\n",
       "    </tr>\n",
       "    <tr>\n",
       "      <th>2019-02-01</th>\n",
       "      <td>102.000000</td>\n",
       "      <td>Unhealthy for Sensitive Groups</td>\n",
       "    </tr>\n",
       "    <tr>\n",
       "      <th>2019-03-01</th>\n",
       "      <td>103.333333</td>\n",
       "      <td>Unhealthy for Sensitive Groups</td>\n",
       "    </tr>\n",
       "    <tr>\n",
       "      <th>2020-08-01</th>\n",
       "      <td>70.000000</td>\n",
       "      <td>Moderate</td>\n",
       "    </tr>\n",
       "    <tr>\n",
       "      <th>2021-12-01</th>\n",
       "      <td>82.000000</td>\n",
       "      <td>Moderate</td>\n",
       "    </tr>\n",
       "    <tr>\n",
       "      <th>2018-01-01</th>\n",
       "      <td>111.444444</td>\n",
       "      <td>Unhealthy for Sensitive Groups</td>\n",
       "    </tr>\n",
       "    <tr>\n",
       "      <th>2019-06-01</th>\n",
       "      <td>99.444444</td>\n",
       "      <td>Moderate</td>\n",
       "    </tr>\n",
       "    <tr>\n",
       "      <th>2022-07-01</th>\n",
       "      <td>69.197791</td>\n",
       "      <td>Moderate</td>\n",
       "    </tr>\n",
       "  </tbody>\n",
       "</table>\n",
       "</div>"
      ],
      "text/plain": [
       "                   AQI                Level of Concern\n",
       "2019-08-01   99.375000                        Moderate\n",
       "2021-09-01   65.521923                        Moderate\n",
       "2017-04-01   78.851852                        Moderate\n",
       "2018-10-01   97.777778                        Moderate\n",
       "2019-11-01  104.555556  Unhealthy for Sensitive Groups\n",
       "2020-01-01  110.666667  Unhealthy for Sensitive Groups\n",
       "2021-11-01   73.000000                        Moderate\n",
       "2020-05-01   72.000000                        Moderate\n",
       "2022-09-01   58.000000                        Moderate\n",
       "2022-02-01   90.333333                        Moderate\n",
       "2016-04-01   62.194444                        Moderate\n",
       "2022-12-01  126.000000  Unhealthy for Sensitive Groups\n",
       "2021-03-01   69.000000                        Moderate\n",
       "2016-09-01   31.000000                            Good\n",
       "2019-02-01  102.000000  Unhealthy for Sensitive Groups\n",
       "2019-03-01  103.333333  Unhealthy for Sensitive Groups\n",
       "2020-08-01   70.000000                        Moderate\n",
       "2021-12-01   82.000000                        Moderate\n",
       "2018-01-01  111.444444  Unhealthy for Sensitive Groups\n",
       "2019-06-01   99.444444                        Moderate\n",
       "2022-07-01   69.197791                        Moderate"
      ]
     },
     "execution_count": 53,
     "metadata": {},
     "output_type": "execute_result"
    }
   ],
   "source": [
    "y_test"
   ]
  },
  {
   "cell_type": "markdown",
   "metadata": {},
   "source": [
    "### Predictor function"
   ]
  },
  {
   "cell_type": "code",
   "execution_count": 54,
   "metadata": {},
   "outputs": [],
   "source": [
    "def predictor(df):\n",
    "    df=ss.transform(df.values)\n",
    "    rfp=rf_best_model.predict(df)\n",
    "    lrp=lr_best_model.predict(df)\n",
    "    svrp=svr_best_model.predict(df)\n",
    "    f_pred=[]\n",
    "    f_pred.append((rfp+lrp+svrp)/3)\n",
    "    f_pred=np.array(f_pred)\n",
    "    f_pred=f_pred.reshape(-1,1)\n",
    "    loc=[]\n",
    "    for i in f_pred:\n",
    "        if (i>=0) and i<=50:\n",
    "            loc.append('Good')\n",
    "        elif i>=51 and i<=100:\n",
    "            loc.append('Moderate')\n",
    "        elif i>=101 and i<=150:\n",
    "            loc.append('Unhealthy for Sensitive Groups')\n",
    "        elif i>=151 and i<=200:\n",
    "            loc.append('Unhealthy')\n",
    "        elif i>=201 and i<=300:\n",
    "            loc.append('Very Unhealthy')\n",
    "        else:\n",
    "            loc.append('Hazardous')\n",
    "    df_p=pd.DataFrame(f_pred,columns=['AQI'])\n",
    "    df_p['AQI']=f_pred\n",
    "    df_p['Level of Concern']=np.array(loc).reshape(-1,1)\n",
    "    print(df_p)\n",
    "    return df_p"
   ]
  },
  {
   "cell_type": "code",
   "execution_count": 55,
   "metadata": {},
   "outputs": [
    {
     "name": "stdout",
     "output_type": "stream",
     "text": [
      "           AQI                Level of Concern\n",
      "0    81.722622                        Moderate\n",
      "1    89.238211                        Moderate\n",
      "2    95.520921                        Moderate\n",
      "3    70.786568                        Moderate\n",
      "4    76.604705                        Moderate\n",
      "5    89.246416                        Moderate\n",
      "6    69.687679                        Moderate\n",
      "7    56.292342                        Moderate\n",
      "8    59.427412                        Moderate\n",
      "9    63.017907                        Moderate\n",
      "10   99.601845                        Moderate\n",
      "11  127.144069  Unhealthy for Sensitive Groups\n"
     ]
    }
   ],
   "source": [
    "\n",
    "res=predictor(X_['2022'])"
   ]
  },
  {
   "cell_type": "code",
   "execution_count": 56,
   "metadata": {},
   "outputs": [
    {
     "name": "stdout",
     "output_type": "stream",
     "text": [
      "Mean Absolute Error: 0.7298508725815491\n",
      "Mean Squared Error: 0.7868476261874217\n",
      "Mean Absolute Percentage: 0.009605243720525009\n"
     ]
    }
   ],
   "source": [
    "print(\"Mean Absolute Error:\",mean_absolute_error(y['2022'],res['AQI']))\n",
    "print(\"Mean Squared Error:\",mean_squared_error(y['2022'],res['AQI']))\n",
    "print('Mean Absolute Percentage:',mean_absolute_percentage_error(y['2022'],res['AQI']))"
   ]
  },
  {
   "cell_type": "code",
   "execution_count": 57,
   "metadata": {},
   "outputs": [],
   "source": [
    "krm_so2.index = pd.to_datetime(krm_so2['Year'].astype(str) + '-' + krm_so2['Month'], format='%Y-%b')\n",
    "krm_so2.drop(['Year', 'Month'], axis=1, inplace=True)\n",
    "krm_so2=krm_so2.sort_index()"
   ]
  },
  {
   "cell_type": "code",
   "execution_count": 59,
   "metadata": {},
   "outputs": [],
   "source": [
    "krm_nox.index = pd.to_datetime(krm_nox['Year'].astype(str) + '-' + krm_nox['Month'], format='%Y-%b')\n",
    "krm_nox.drop(['Year', 'Month'], axis=1, inplace=True)\n",
    "krm_nox=krm_nox.sort_index()"
   ]
  },
  {
   "cell_type": "code",
   "execution_count": 60,
   "metadata": {},
   "outputs": [],
   "source": [
    "krm_pm10.index = pd.to_datetime(krm_pm10['Year'].astype(str) + '-' + krm_pm10['Month'], format='%Y-%b')\n",
    "krm_pm10.drop(['Year', 'Month'], axis=1, inplace=True)\n",
    "krm_pm10=krm_pm10.sort_index()"
   ]
  },
  {
   "cell_type": "code",
   "execution_count": 61,
   "metadata": {},
   "outputs": [
    {
     "name": "stderr",
     "output_type": "stream",
     "text": [
      "c:\\braindedmemory\\Programming\\anaconda3\\lib\\site-packages\\statsmodels\\tsa\\base\\tsa_model.py:471: ValueWarning: No frequency information was provided, so inferred frequency MS will be used.\n",
      "  self._init_dates(dates, freq)\n",
      "c:\\braindedmemory\\Programming\\anaconda3\\lib\\site-packages\\statsmodels\\tsa\\base\\tsa_model.py:471: ValueWarning: No frequency information was provided, so inferred frequency MS will be used.\n",
      "  self._init_dates(dates, freq)\n",
      "c:\\braindedmemory\\Programming\\anaconda3\\lib\\site-packages\\statsmodels\\tsa\\base\\tsa_model.py:471: ValueWarning: No frequency information was provided, so inferred frequency MS will be used.\n",
      "  self._init_dates(dates, freq)\n"
     ]
    }
   ],
   "source": [
    "#Performing exponential smoothing for the data to predict future dependent variables\n",
    "\n",
    "from statsmodels.tsa.api import ExponentialSmoothing\n",
    "model_so2= ExponentialSmoothing(krm_so2[:'2020'], trend='add', seasonal='mul')\n",
    "fit_so2 = model_so2.fit(optimized=True)\n",
    "fore_so2 = fit_so2.forecast(12)\n",
    "\n",
    "from statsmodels.tsa.api import ExponentialSmoothing\n",
    "model_nox= ExponentialSmoothing(krm_nox[:'2020'], trend='add', seasonal='mul')\n",
    "fit_nox = model_nox.fit(optimized=True)\n",
    "fore_nox = fit_nox.forecast(12)\n",
    "\n",
    "\n",
    "from statsmodels.tsa.api import ExponentialSmoothing\n",
    "model_pm10= ExponentialSmoothing(krm_pm10[:'2020'], trend='add', seasonal='mul')\n",
    "fit_pm10 = model_pm10.fit(optimized=True)\n",
    "fore_pm10 = fit_pm10.forecast(12)"
   ]
  },
  {
   "cell_type": "code",
   "execution_count": 62,
   "metadata": {},
   "outputs": [
    {
     "name": "stdout",
     "output_type": "stream",
     "text": [
      "Mean Absolute Error for so2: 0.6336863919665294\n",
      "Mean Absolute Error for nox: 25.129272446035728\n",
      "MAPE for PM10: 36.90340590622562\n"
     ]
    }
   ],
   "source": [
    "#Accuracy\n",
    "from sklearn.metrics import mean_absolute_percentage_error,mean_absolute_error\n",
    "mae_so2 = mean_absolute_error(krm_so2['2021'],fore_so2['2021'] )\n",
    "print('Mean Absolute Error for so2:', mae_so2)\n",
    "mae_nox = mean_absolute_error(krm_nox['2022'],fore_nox )\n",
    "print('Mean Absolute Error for nox:', mae_nox)\n",
    "mae_pm10 = mean_absolute_error(krm_pm10['2022'],fore_pm10 )\n",
    "print('MAPE for PM10:', mae_pm10)"
   ]
  },
  {
   "cell_type": "code",
   "execution_count": 63,
   "metadata": {},
   "outputs": [
    {
     "data": {
      "text/html": [
       "<div>\n",
       "<style scoped>\n",
       "    .dataframe tbody tr th:only-of-type {\n",
       "        vertical-align: middle;\n",
       "    }\n",
       "\n",
       "    .dataframe tbody tr th {\n",
       "        vertical-align: top;\n",
       "    }\n",
       "\n",
       "    .dataframe thead th {\n",
       "        text-align: right;\n",
       "    }\n",
       "</style>\n",
       "<table border=\"1\" class=\"dataframe\">\n",
       "  <thead>\n",
       "    <tr style=\"text-align: right;\">\n",
       "      <th></th>\n",
       "      <th>SO2</th>\n",
       "      <th>NOX</th>\n",
       "      <th>PM10</th>\n",
       "    </tr>\n",
       "  </thead>\n",
       "  <tbody>\n",
       "    <tr>\n",
       "      <th>2021-01-01</th>\n",
       "      <td>8.287897</td>\n",
       "      <td>8.287897</td>\n",
       "      <td>135.985750</td>\n",
       "    </tr>\n",
       "    <tr>\n",
       "      <th>2021-02-01</th>\n",
       "      <td>8.292993</td>\n",
       "      <td>8.292993</td>\n",
       "      <td>125.531648</td>\n",
       "    </tr>\n",
       "    <tr>\n",
       "      <th>2021-03-01</th>\n",
       "      <td>8.290843</td>\n",
       "      <td>8.290843</td>\n",
       "      <td>123.850837</td>\n",
       "    </tr>\n",
       "    <tr>\n",
       "      <th>2021-04-01</th>\n",
       "      <td>8.505888</td>\n",
       "      <td>8.505888</td>\n",
       "      <td>104.603244</td>\n",
       "    </tr>\n",
       "    <tr>\n",
       "      <th>2021-05-01</th>\n",
       "      <td>8.100089</td>\n",
       "      <td>8.100089</td>\n",
       "      <td>114.666562</td>\n",
       "    </tr>\n",
       "    <tr>\n",
       "      <th>2021-06-01</th>\n",
       "      <td>7.954748</td>\n",
       "      <td>7.954748</td>\n",
       "      <td>103.552678</td>\n",
       "    </tr>\n",
       "    <tr>\n",
       "      <th>2021-07-01</th>\n",
       "      <td>7.975556</td>\n",
       "      <td>7.975556</td>\n",
       "      <td>108.880641</td>\n",
       "    </tr>\n",
       "    <tr>\n",
       "      <th>2021-08-01</th>\n",
       "      <td>7.412959</td>\n",
       "      <td>7.412959</td>\n",
       "      <td>101.703308</td>\n",
       "    </tr>\n",
       "    <tr>\n",
       "      <th>2021-09-01</th>\n",
       "      <td>7.752569</td>\n",
       "      <td>7.752569</td>\n",
       "      <td>111.667111</td>\n",
       "    </tr>\n",
       "    <tr>\n",
       "      <th>2021-10-01</th>\n",
       "      <td>7.841634</td>\n",
       "      <td>7.841634</td>\n",
       "      <td>134.489927</td>\n",
       "    </tr>\n",
       "    <tr>\n",
       "      <th>2021-11-01</th>\n",
       "      <td>7.721736</td>\n",
       "      <td>7.721736</td>\n",
       "      <td>134.603372</td>\n",
       "    </tr>\n",
       "    <tr>\n",
       "      <th>2021-12-01</th>\n",
       "      <td>7.967502</td>\n",
       "      <td>7.967502</td>\n",
       "      <td>135.948710</td>\n",
       "    </tr>\n",
       "  </tbody>\n",
       "</table>\n",
       "</div>"
      ],
      "text/plain": [
       "                 SO2       NOX        PM10\n",
       "2021-01-01  8.287897  8.287897  135.985750\n",
       "2021-02-01  8.292993  8.292993  125.531648\n",
       "2021-03-01  8.290843  8.290843  123.850837\n",
       "2021-04-01  8.505888  8.505888  104.603244\n",
       "2021-05-01  8.100089  8.100089  114.666562\n",
       "2021-06-01  7.954748  7.954748  103.552678\n",
       "2021-07-01  7.975556  7.975556  108.880641\n",
       "2021-08-01  7.412959  7.412959  101.703308\n",
       "2021-09-01  7.752569  7.752569  111.667111\n",
       "2021-10-01  7.841634  7.841634  134.489927\n",
       "2021-11-01  7.721736  7.721736  134.603372\n",
       "2021-12-01  7.967502  7.967502  135.948710"
      ]
     },
     "execution_count": 63,
     "metadata": {},
     "output_type": "execute_result"
    }
   ],
   "source": [
    "forecast_df=pd.DataFrame(fore_so2,columns=['SO2'])\n",
    "forecast_df['NOX']=fore_so2\n",
    "forecast_df['PM10']=fore_pm10\n",
    "forecast_df"
   ]
  },
  {
   "cell_type": "code",
   "execution_count": 64,
   "metadata": {},
   "outputs": [
    {
     "name": "stdout",
     "output_type": "stream",
     "text": [
      "          AQI Level of Concern\n",
      "0   85.211035         Moderate\n",
      "1   80.255349         Moderate\n",
      "2   79.456850         Moderate\n",
      "3   70.452000         Moderate\n",
      "4   74.989843         Moderate\n",
      "5   69.633922         Moderate\n",
      "6   72.173181         Moderate\n",
      "7   68.442376         Moderate\n",
      "8   73.365499         Moderate\n",
      "9   84.242610         Moderate\n",
      "10  84.226856         Moderate\n",
      "11  85.007575         Moderate\n"
     ]
    }
   ],
   "source": [
    "final_pred=predictor(forecast_df)"
   ]
  },
  {
   "cell_type": "code",
   "execution_count": 65,
   "metadata": {},
   "outputs": [],
   "source": [
    "final_pred.to_csv('Khammam2023.csv')"
   ]
  }
 ],
 "metadata": {
  "interpreter": {
   "hash": "5b124afded074c70b1168b021b33622efccdf1097854b00f22ff1bd7656ffa95"
  },
  "kernelspec": {
   "display_name": "Python 3.9.12 ('base')",
   "language": "python",
   "name": "python3"
  },
  "language_info": {
   "codemirror_mode": {
    "name": "ipython",
    "version": 3
   },
   "file_extension": ".py",
   "mimetype": "text/x-python",
   "name": "python",
   "nbconvert_exporter": "python",
   "pygments_lexer": "ipython3",
   "version": "3.9.12"
  },
  "orig_nbformat": 4
 },
 "nbformat": 4,
 "nbformat_minor": 2
}
