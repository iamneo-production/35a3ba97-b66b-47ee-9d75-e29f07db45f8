{
 "cells": [
  {
   "cell_type": "markdown",
   "metadata": {},
   "source": [
    "### Importing libraries"
   ]
  },
  {
   "cell_type": "code",
   "execution_count": 71,
   "metadata": {},
   "outputs": [],
   "source": [
    "import pandas as pd\n",
    "import numpy as np\n",
    "from sklearn.preprocessing import StandardScaler\n",
    "from sklearn.ensemble import RandomForestRegressor\n",
    "from sklearn.svm import SVR\n",
    "from sklearn.linear_model import LinearRegression,Ridge,Lasso\n",
    "from sklearn.model_selection import GridSearchCV,cross_val_score\n",
    "from sklearn.metrics import r2_score\n",
    "import warnings\n",
    "warnings.filterwarnings(\"ignore\")\n",
    "from statsmodels.tsa.holtwinters import ExponentialSmoothing\n",
    "from sklearn.metrics import mean_absolute_percentage_error,mean_squared_error"
   ]
  },
  {
   "cell_type": "markdown",
   "metadata": {},
   "source": [
    "### Importing the datasets"
   ]
  },
  {
   "cell_type": "code",
   "execution_count": 72,
   "metadata": {},
   "outputs": [],
   "source": [
    "ad_so2=pd.read_excel(r'Alibad_so2.xlsx')\n",
    "ad_nox=pd.read_excel(r'alibad_no2.xlsx')\n",
    "ad_pm10=pd.read_excel(r'alibad_PM10.xlsx')\n",
    "ad_aqi=pd.read_excel(r'adilabad_aqi.xlsx')"
   ]
  },
  {
   "cell_type": "markdown",
   "metadata": {},
   "source": [
    "### Filling the null values row-wise as there seems to more yearly relation than monthly relation for each pollutant"
   ]
  },
  {
   "cell_type": "code",
   "execution_count": 73,
   "metadata": {},
   "outputs": [],
   "source": [
    "for i in range(0,7):\n",
    "    ad_so2.iloc[i,1:]=ad_so2.iloc[i,1:].fillna(ad_so2.iloc[i,1:].mean())\n",
    "    ad_nox.iloc[i,1:]=ad_nox.iloc[i,1:].fillna(ad_nox.iloc[i,1:].mean())\n",
    "    ad_pm10.iloc[i,1:]=ad_pm10.iloc[i,1:].fillna(ad_pm10.iloc[i,1:].mean())\n",
    "    ad_aqi.iloc[i,1:]=ad_aqi.iloc[i,1:].fillna(ad_aqi.iloc[i,1:].mean())"
   ]
  },
  {
   "cell_type": "markdown",
   "metadata": {},
   "source": [
    "### Reorganizing the data for a combined dataset."
   ]
  },
  {
   "cell_type": "code",
   "execution_count": 74,
   "metadata": {},
   "outputs": [],
   "source": [
    "ad_so2 = ad_so2.melt(id_vars=[\"Year\"], var_name=\"Month\", value_name=\"SO2\")\n",
    "ad_nox = ad_nox.melt(id_vars=[\"Year\"], var_name=\"Month\", value_name=\"NOX\")\n",
    "ad_pm10 = ad_pm10.melt(id_vars=[\"Year\"], var_name=\"Month\", value_name=\"PM10\")\n",
    "ad_aqi = ad_aqi.melt(id_vars=[\"Year\"], var_name=\"Month\", value_name=\"AQI\")\n"
   ]
  },
  {
   "cell_type": "markdown",
   "metadata": {},
   "source": [
    "### Organizing the data for better model performance"
   ]
  },
  {
   "cell_type": "code",
   "execution_count": 75,
   "metadata": {},
   "outputs": [
    {
     "data": {
      "text/html": [
       "<div>\n",
       "<style scoped>\n",
       "    .dataframe tbody tr th:only-of-type {\n",
       "        vertical-align: middle;\n",
       "    }\n",
       "\n",
       "    .dataframe tbody tr th {\n",
       "        vertical-align: top;\n",
       "    }\n",
       "\n",
       "    .dataframe thead th {\n",
       "        text-align: right;\n",
       "    }\n",
       "</style>\n",
       "<table border=\"1\" class=\"dataframe\">\n",
       "  <thead>\n",
       "    <tr style=\"text-align: right;\">\n",
       "      <th></th>\n",
       "      <th>PM10</th>\n",
       "      <th>NOX</th>\n",
       "      <th>SO2</th>\n",
       "      <th>AQI</th>\n",
       "    </tr>\n",
       "  </thead>\n",
       "  <tbody>\n",
       "    <tr>\n",
       "      <th>2016-01-01</th>\n",
       "      <td>62.0</td>\n",
       "      <td>18.428571</td>\n",
       "      <td>4.571429</td>\n",
       "      <td>67.333333</td>\n",
       "    </tr>\n",
       "    <tr>\n",
       "      <th>2016-02-01</th>\n",
       "      <td>68.0</td>\n",
       "      <td>18.428571</td>\n",
       "      <td>4.571429</td>\n",
       "      <td>68.333333</td>\n",
       "    </tr>\n",
       "    <tr>\n",
       "      <th>2016-03-01</th>\n",
       "      <td>71.0</td>\n",
       "      <td>18.428571</td>\n",
       "      <td>4.571429</td>\n",
       "      <td>71.111111</td>\n",
       "    </tr>\n",
       "    <tr>\n",
       "      <th>2016-04-01</th>\n",
       "      <td>70.0</td>\n",
       "      <td>18.428571</td>\n",
       "      <td>4.571429</td>\n",
       "      <td>69.555556</td>\n",
       "    </tr>\n",
       "    <tr>\n",
       "      <th>2016-05-01</th>\n",
       "      <td>69.0</td>\n",
       "      <td>18.428571</td>\n",
       "      <td>4.571429</td>\n",
       "      <td>70.555556</td>\n",
       "    </tr>\n",
       "    <tr>\n",
       "      <th>...</th>\n",
       "      <td>...</td>\n",
       "      <td>...</td>\n",
       "      <td>...</td>\n",
       "      <td>...</td>\n",
       "    </tr>\n",
       "    <tr>\n",
       "      <th>2021-08-01</th>\n",
       "      <td>69.0</td>\n",
       "      <td>24.150000</td>\n",
       "      <td>5.950000</td>\n",
       "      <td>69.000000</td>\n",
       "    </tr>\n",
       "    <tr>\n",
       "      <th>2021-09-01</th>\n",
       "      <td>69.0</td>\n",
       "      <td>24.150000</td>\n",
       "      <td>5.950000</td>\n",
       "      <td>69.000000</td>\n",
       "    </tr>\n",
       "    <tr>\n",
       "      <th>2021-10-01</th>\n",
       "      <td>69.0</td>\n",
       "      <td>24.150000</td>\n",
       "      <td>5.950000</td>\n",
       "      <td>69.000000</td>\n",
       "    </tr>\n",
       "    <tr>\n",
       "      <th>2021-11-01</th>\n",
       "      <td>69.0</td>\n",
       "      <td>24.150000</td>\n",
       "      <td>5.950000</td>\n",
       "      <td>69.000000</td>\n",
       "    </tr>\n",
       "    <tr>\n",
       "      <th>2021-12-01</th>\n",
       "      <td>69.0</td>\n",
       "      <td>24.150000</td>\n",
       "      <td>5.950000</td>\n",
       "      <td>69.000000</td>\n",
       "    </tr>\n",
       "  </tbody>\n",
       "</table>\n",
       "<p>72 rows × 4 columns</p>\n",
       "</div>"
      ],
      "text/plain": [
       "            PM10        NOX       SO2        AQI\n",
       "2016-01-01  62.0  18.428571  4.571429  67.333333\n",
       "2016-02-01  68.0  18.428571  4.571429  68.333333\n",
       "2016-03-01  71.0  18.428571  4.571429  71.111111\n",
       "2016-04-01  70.0  18.428571  4.571429  69.555556\n",
       "2016-05-01  69.0  18.428571  4.571429  70.555556\n",
       "...          ...        ...       ...        ...\n",
       "2021-08-01  69.0  24.150000  5.950000  69.000000\n",
       "2021-09-01  69.0  24.150000  5.950000  69.000000\n",
       "2021-10-01  69.0  24.150000  5.950000  69.000000\n",
       "2021-11-01  69.0  24.150000  5.950000  69.000000\n",
       "2021-12-01  69.0  24.150000  5.950000  69.000000\n",
       "\n",
       "[72 rows x 4 columns]"
      ]
     },
     "execution_count": 75,
     "metadata": {},
     "output_type": "execute_result"
    }
   ],
   "source": [
    "ad_poll = pd.merge(ad_pm10, ad_nox, on=['Month','Year'])\n",
    "ad_poll = pd.merge(ad_poll, ad_so2, on=['Month','Year'])\n",
    "ad_final=pd.merge(ad_poll,ad_aqi,on=['Month','Year'])\n",
    "ad_final.index = pd.to_datetime(ad_final['Year'].astype(str) + '-' + ad_final['Month'], format='%Y-%b')\n",
    "ad_final.drop(['Year', 'Month'], axis=1, inplace=True)\n",
    "ad_final=ad_final.sort_index()\n",
    "ad_final['2016':'2021']"
   ]
  },
  {
   "cell_type": "markdown",
   "metadata": {},
   "source": [
    "### Test Train Split"
   ]
  },
  {
   "cell_type": "code",
   "execution_count": 76,
   "metadata": {},
   "outputs": [],
   "source": [
    "X_=ad_final.iloc[:,:-1]\n",
    "y=ad_final.iloc[:,-1]"
   ]
  },
  {
   "cell_type": "code",
   "execution_count": 77,
   "metadata": {},
   "outputs": [],
   "source": [
    "#Scalling the Data to improve model perfomance and bring features into similar range\n",
    "ss=StandardScaler()\n",
    "X=ss.fit_transform(X_)\n",
    "X=pd.DataFrame(X,columns=ad_final.columns[:-1])"
   ]
  },
  {
   "cell_type": "code",
   "execution_count": 78,
   "metadata": {},
   "outputs": [],
   "source": [
    "from sklearn.model_selection import train_test_split\n",
    "X_train,X_test,y_train,y_test=train_test_split(X,y,random_state=66,test_size=0.25)"
   ]
  },
  {
   "cell_type": "markdown",
   "metadata": {},
   "source": [
    "### Perfoming Hyper-parameter tuning with comparison with other models"
   ]
  },
  {
   "cell_type": "code",
   "execution_count": 79,
   "metadata": {},
   "outputs": [],
   "source": [
    "#Listing Parameters\n",
    "\n",
    "rf_params = {'n_estimators': [500,300,100,800,1000], 'max_depth': [12,15,10,5,7,3]}\n",
    "\n",
    "lr_param_grid = {}\n",
    "\n",
    "svr_param_grid = {'kernel': ['linear', 'rbf'], 'C': [0.1, 1, 10], 'gamma': [0.1, 1, 10]}"
   ]
  },
  {
   "cell_type": "code",
   "execution_count": 80,
   "metadata": {},
   "outputs": [],
   "source": [
    "# create models\n",
    "rf_model = RandomForestRegressor(random_state=42)\n",
    "lr_model = LinearRegression()\n",
    "svr_model = SVR()"
   ]
  },
  {
   "cell_type": "code",
   "execution_count": 81,
   "metadata": {},
   "outputs": [],
   "source": [
    "# create GridSearchCV objects\n",
    "rf_grid = GridSearchCV(rf_model, rf_params, cv=5)\n",
    "lr_grid = GridSearchCV(lr_model, lr_param_grid)\n",
    "svr_grid = GridSearchCV(svr_model, svr_param_grid)"
   ]
  },
  {
   "cell_type": "code",
   "execution_count": 82,
   "metadata": {},
   "outputs": [
    {
     "data": {
      "text/plain": [
       "GridSearchCV(estimator=SVR(),\n",
       "             param_grid={'C': [0.1, 1, 10], 'gamma': [0.1, 1, 10],\n",
       "                         'kernel': ['linear', 'rbf']})"
      ]
     },
     "execution_count": 82,
     "metadata": {},
     "output_type": "execute_result"
    }
   ],
   "source": [
    "# fit the models\n",
    "rf_grid.fit(X_train, y_train)\n",
    "lr_grid.fit(X_train, y_train)\n",
    "svr_grid.fit(X_train, y_train)"
   ]
  },
  {
   "cell_type": "code",
   "execution_count": 83,
   "metadata": {},
   "outputs": [],
   "source": [
    "# get the best hyperparameters\n",
    "rf_best_params = rf_grid.best_params_\n",
    "lr_best_params = lr_grid.best_params_\n",
    "svr_best_params = svr_grid.best_params_"
   ]
  },
  {
   "cell_type": "code",
   "execution_count": 84,
   "metadata": {},
   "outputs": [],
   "source": [
    "# create new models with the best hyperparameters\n",
    "rf_best_model = RandomForestRegressor(**rf_best_params, random_state=42)\n",
    "lr_best_model = LinearRegression(**lr_best_params)\n",
    "svr_best_model = SVR(**svr_best_params)"
   ]
  },
  {
   "cell_type": "code",
   "execution_count": 85,
   "metadata": {},
   "outputs": [
    {
     "data": {
      "text/plain": [
       "SVR(C=10, gamma=0.1)"
      ]
     },
     "execution_count": 85,
     "metadata": {},
     "output_type": "execute_result"
    }
   ],
   "source": [
    "# fit the best models\n",
    "rf_best_model.fit(X_train, y_train)\n",
    "lr_best_model.fit(X_train, y_train)\n",
    "svr_best_model.fit(X_train, y_train)"
   ]
  },
  {
   "cell_type": "code",
   "execution_count": 86,
   "metadata": {},
   "outputs": [],
   "source": [
    "# make predictions\n",
    "rf_preds = rf_best_model.predict(X_test)\n",
    "lr_preds = lr_best_model.predict(X_test)\n",
    "svr_preds = svr_best_model.predict(X_test)"
   ]
  },
  {
   "cell_type": "markdown",
   "metadata": {},
   "source": [
    "### Checking individual model performace"
   ]
  },
  {
   "cell_type": "code",
   "execution_count": 87,
   "metadata": {},
   "outputs": [
    {
     "name": "stdout",
     "output_type": "stream",
     "text": [
      "Random Forest R2 Score: 0.8603987559458011\n",
      "Linear Regression R2 Score: 0.9553439343559368\n",
      "Support Vector Regressor R2 Score: 0.915883235716348\n"
     ]
    }
   ],
   "source": [
    "# calculate r2 scores\n",
    "\n",
    "rf_r2 = r2_score(y_test, rf_preds)\n",
    "print(f\"Random Forest R2 Score: {rf_r2}\")\n",
    "\n",
    "lr_r2 = r2_score(y_test, lr_preds)\n",
    "print(f\"Linear Regression R2 Score: {lr_r2}\")\n",
    "\n",
    "svr_r2 = r2_score(y_test, svr_preds)\n",
    "print(f\"Support Vector Regressor R2 Score: {svr_r2}\")"
   ]
  },
  {
   "cell_type": "markdown",
   "metadata": {},
   "source": [
    "### Checking Ridge and Lasso Regression and cross validation to prevent overfitting"
   ]
  },
  {
   "cell_type": "code",
   "execution_count": 88,
   "metadata": {},
   "outputs": [],
   "source": [
    "lr = LinearRegression()\n",
    "ridge = Ridge()\n",
    "lasso = Lasso()\n",
    "rf = RandomForestRegressor()\n",
    "svr = SVR()\n",
    "\n",
    "lr_params = {'normalize': [True, False]}\n",
    "ridge_params = {'alpha': [0.01, 0.1, 1, 10, 100]}\n",
    "lasso_params = {'alpha': [0.01, 0.1, 1, 10, 100]}\n",
    "rf_params = {'n_estimators': [500,300,100,800,1000], 'max_depth':[12,15,10,5,7,3] }\n",
    "svr_params = {'C': [0.1, 1, 10], 'gamma': [0.1, 1, 10], 'kernel': ['linear', 'rbf']}"
   ]
  },
  {
   "cell_type": "code",
   "execution_count": 89,
   "metadata": {},
   "outputs": [],
   "source": [
    "models = {'Linear Regression': (lr, lr_params),\n",
    "          'Ridge Regression': (ridge, ridge_params),\n",
    "          'Lasso Regression': (lasso, lasso_params),\n",
    "          'Random Forest Regression': (rf, rf_params),\n",
    "          'Support Vector Regression': (svr, svr_params)}"
   ]
  },
  {
   "cell_type": "code",
   "execution_count": 90,
   "metadata": {},
   "outputs": [
    {
     "name": "stdout",
     "output_type": "stream",
     "text": [
      "Linear Regression: 0.978 (±0.008)\n",
      "Ridge Regression: 0.943 (±0.028)\n",
      "Lasso Regression: 0.980 (±0.011)\n",
      "Random Forest Regression: 0.789 (±0.176)\n",
      "Support Vector Regression: 0.917 (±0.054)\n"
     ]
    }
   ],
   "source": [
    "for name, (model, params) in models.items():\n",
    "    gs = GridSearchCV(model, params, cv=2,n_jobs=-1)\n",
    "    scores = cross_val_score(gs, X_test, y_test, cv=2, scoring='r2')\n",
    "    print(f'{name}: {scores.mean():.3f} (±{scores.std():.3f})')"
   ]
  },
  {
   "cell_type": "markdown",
   "metadata": {},
   "source": [
    "### Performing ensemble methods and full model accuracy"
   ]
  },
  {
   "cell_type": "code",
   "execution_count": 91,
   "metadata": {},
   "outputs": [],
   "source": [
    "import numpy as np\n",
    "f_pred=[]\n",
    "f_pred.append((rf_preds+lr_preds+svr_preds)/3)\n",
    "f_pred=np.array(f_pred)\n",
    "f_pred=f_pred.reshape(-1,1)"
   ]
  },
  {
   "cell_type": "code",
   "execution_count": 92,
   "metadata": {},
   "outputs": [
    {
     "name": "stdout",
     "output_type": "stream",
     "text": [
      " R2 Score: 0.9330395567535132\n",
      " Mean Absolute Percentage Error: 0.021954157271185555\n",
      "Mean Squared Error : 0.021954157271185555\n"
     ]
    }
   ],
   "source": [
    "rr2 = r2_score(y_test, f_pred)\n",
    "print(f\" R2 Score: {rr2}\")\n",
    "\n",
    "mape = mean_absolute_percentage_error(y_test, f_pred)\n",
    "print(f\" Mean Absolute Percentage Error: {mape}\")\n",
    "\n",
    "mse=mean_squared_error(y_test,f_pred)\n",
    "print(f\"Mean Squared Error : {mape}\")"
   ]
  },
  {
   "cell_type": "markdown",
   "metadata": {},
   "source": [
    "### Final Predictions\n"
   ]
  },
  {
   "cell_type": "code",
   "execution_count": 93,
   "metadata": {},
   "outputs": [],
   "source": [
    "loc=[]\n",
    "for i in f_pred:\n",
    "    if (i>=0) and i<=50:\n",
    "        loc.append('Good')\n",
    "    elif i>=51 and i<=100:\n",
    "        loc.append('Moderate')\n",
    "    elif i>=101 and i<=150:\n",
    "        loc.append('Unhealthy for Sensitive Groups')\n",
    "    elif i>=151 and i<=200:\n",
    "        loc.append('Unhealthy')\n",
    "    elif i>=201 and i<=300:\n",
    "        loc.append('Very Unhealthy')\n",
    "    else:\n",
    "        loc.append('Hazardous')\n",
    "y_test=pd.DataFrame(y_test)\n",
    "y_test['Level of Concern']=loc"
   ]
  },
  {
   "cell_type": "code",
   "execution_count": 94,
   "metadata": {},
   "outputs": [
    {
     "data": {
      "text/html": [
       "<div>\n",
       "<style scoped>\n",
       "    .dataframe tbody tr th:only-of-type {\n",
       "        vertical-align: middle;\n",
       "    }\n",
       "\n",
       "    .dataframe tbody tr th {\n",
       "        vertical-align: top;\n",
       "    }\n",
       "\n",
       "    .dataframe thead th {\n",
       "        text-align: right;\n",
       "    }\n",
       "</style>\n",
       "<table border=\"1\" class=\"dataframe\">\n",
       "  <thead>\n",
       "    <tr style=\"text-align: right;\">\n",
       "      <th></th>\n",
       "      <th>AQI</th>\n",
       "      <th>Level of Concern</th>\n",
       "    </tr>\n",
       "  </thead>\n",
       "  <tbody>\n",
       "    <tr>\n",
       "      <th>2019-08-01</th>\n",
       "      <td>79.000000</td>\n",
       "      <td>Moderate</td>\n",
       "    </tr>\n",
       "    <tr>\n",
       "      <th>2021-09-01</th>\n",
       "      <td>69.000000</td>\n",
       "      <td>Moderate</td>\n",
       "    </tr>\n",
       "    <tr>\n",
       "      <th>2017-04-01</th>\n",
       "      <td>68.962963</td>\n",
       "      <td>Moderate</td>\n",
       "    </tr>\n",
       "    <tr>\n",
       "      <th>2018-10-01</th>\n",
       "      <td>67.111111</td>\n",
       "      <td>Moderate</td>\n",
       "    </tr>\n",
       "    <tr>\n",
       "      <th>2019-11-01</th>\n",
       "      <td>78.666667</td>\n",
       "      <td>Moderate</td>\n",
       "    </tr>\n",
       "    <tr>\n",
       "      <th>2020-01-01</th>\n",
       "      <td>78.000000</td>\n",
       "      <td>Moderate</td>\n",
       "    </tr>\n",
       "    <tr>\n",
       "      <th>2021-11-01</th>\n",
       "      <td>69.000000</td>\n",
       "      <td>Moderate</td>\n",
       "    </tr>\n",
       "    <tr>\n",
       "      <th>2020-05-01</th>\n",
       "      <td>71.779835</td>\n",
       "      <td>Moderate</td>\n",
       "    </tr>\n",
       "    <tr>\n",
       "      <th>2022-09-01</th>\n",
       "      <td>56.000000</td>\n",
       "      <td>Moderate</td>\n",
       "    </tr>\n",
       "    <tr>\n",
       "      <th>2022-02-01</th>\n",
       "      <td>58.414815</td>\n",
       "      <td>Moderate</td>\n",
       "    </tr>\n",
       "    <tr>\n",
       "      <th>2016-04-01</th>\n",
       "      <td>69.555556</td>\n",
       "      <td>Moderate</td>\n",
       "    </tr>\n",
       "    <tr>\n",
       "      <th>2022-12-01</th>\n",
       "      <td>62.000000</td>\n",
       "      <td>Moderate</td>\n",
       "    </tr>\n",
       "    <tr>\n",
       "      <th>2021-03-01</th>\n",
       "      <td>73.000000</td>\n",
       "      <td>Moderate</td>\n",
       "    </tr>\n",
       "    <tr>\n",
       "      <th>2016-09-01</th>\n",
       "      <td>58.000000</td>\n",
       "      <td>Moderate</td>\n",
       "    </tr>\n",
       "    <tr>\n",
       "      <th>2019-02-01</th>\n",
       "      <td>76.777778</td>\n",
       "      <td>Moderate</td>\n",
       "    </tr>\n",
       "    <tr>\n",
       "      <th>2019-03-01</th>\n",
       "      <td>78.555556</td>\n",
       "      <td>Moderate</td>\n",
       "    </tr>\n",
       "    <tr>\n",
       "      <th>2020-08-01</th>\n",
       "      <td>72.000000</td>\n",
       "      <td>Moderate</td>\n",
       "    </tr>\n",
       "    <tr>\n",
       "      <th>2021-12-01</th>\n",
       "      <td>69.000000</td>\n",
       "      <td>Moderate</td>\n",
       "    </tr>\n",
       "    <tr>\n",
       "      <th>2018-01-01</th>\n",
       "      <td>66.111111</td>\n",
       "      <td>Moderate</td>\n",
       "    </tr>\n",
       "    <tr>\n",
       "      <th>2019-06-01</th>\n",
       "      <td>76.555556</td>\n",
       "      <td>Moderate</td>\n",
       "    </tr>\n",
       "    <tr>\n",
       "      <th>2022-07-01</th>\n",
       "      <td>48.000000</td>\n",
       "      <td>Moderate</td>\n",
       "    </tr>\n",
       "  </tbody>\n",
       "</table>\n",
       "</div>"
      ],
      "text/plain": [
       "                  AQI Level of Concern\n",
       "2019-08-01  79.000000         Moderate\n",
       "2021-09-01  69.000000         Moderate\n",
       "2017-04-01  68.962963         Moderate\n",
       "2018-10-01  67.111111         Moderate\n",
       "2019-11-01  78.666667         Moderate\n",
       "2020-01-01  78.000000         Moderate\n",
       "2021-11-01  69.000000         Moderate\n",
       "2020-05-01  71.779835         Moderate\n",
       "2022-09-01  56.000000         Moderate\n",
       "2022-02-01  58.414815         Moderate\n",
       "2016-04-01  69.555556         Moderate\n",
       "2022-12-01  62.000000         Moderate\n",
       "2021-03-01  73.000000         Moderate\n",
       "2016-09-01  58.000000         Moderate\n",
       "2019-02-01  76.777778         Moderate\n",
       "2019-03-01  78.555556         Moderate\n",
       "2020-08-01  72.000000         Moderate\n",
       "2021-12-01  69.000000         Moderate\n",
       "2018-01-01  66.111111         Moderate\n",
       "2019-06-01  76.555556         Moderate\n",
       "2022-07-01  48.000000         Moderate"
      ]
     },
     "execution_count": 94,
     "metadata": {},
     "output_type": "execute_result"
    }
   ],
   "source": [
    "y_test"
   ]
  },
  {
   "cell_type": "markdown",
   "metadata": {},
   "source": [
    "### Predictor Function"
   ]
  },
  {
   "cell_type": "code",
   "execution_count": 95,
   "metadata": {},
   "outputs": [],
   "source": [
    "def predictor(df):\n",
    "    df=ss.transform(df.values)\n",
    "    rfp=rf_best_model.predict(df)\n",
    "    lrp=lr_best_model.predict(df)\n",
    "    svrp=svr_best_model.predict(df)\n",
    "    f_pred=[]\n",
    "    f_pred.append((rfp+lrp+svrp)/3)\n",
    "    f_pred=np.array(f_pred)\n",
    "    f_pred=f_pred.reshape(-1,1)\n",
    "    loc=[]\n",
    "    for i in f_pred:\n",
    "        if (i>=0) and i<=50:\n",
    "            loc.append('Good')\n",
    "        elif i>=51 and i<=100:\n",
    "            loc.append('Moderate')\n",
    "        elif i>=101 and i<=150:\n",
    "            loc.append('Unhealthy for Sensitive Groups')\n",
    "        elif i>=151 and i<=200:\n",
    "            loc.append('Unhealthy')\n",
    "        elif i>=201 and i<=300:\n",
    "            loc.append('Very Unhealthy')\n",
    "        else:\n",
    "            loc.append('Hazardous')\n",
    "    df_p=pd.DataFrame(f_pred,columns=['AQI'])\n",
    "    df_p['AQI']=f_pred\n",
    "    df_p['Level of Concern']=np.array(loc).reshape(-1,1)\n",
    "    print(df_p)\n",
    "    return df_p"
   ]
  },
  {
   "cell_type": "code",
   "execution_count": 96,
   "metadata": {},
   "outputs": [
    {
     "name": "stdout",
     "output_type": "stream",
     "text": [
      "          AQI Level of Concern\n",
      "0   59.303101         Moderate\n",
      "1   59.303101         Moderate\n",
      "2   58.009091         Moderate\n",
      "3   64.696709         Moderate\n",
      "4   60.910562         Moderate\n",
      "5   58.690805         Moderate\n",
      "6   55.888752         Moderate\n",
      "7   58.144096         Moderate\n",
      "8   57.733556         Moderate\n",
      "9   63.495554         Moderate\n",
      "10  59.992046         Moderate\n",
      "11  61.738568         Moderate\n"
     ]
    }
   ],
   "source": [
    "res=predictor(X_['2022'])"
   ]
  },
  {
   "cell_type": "code",
   "execution_count": 108,
   "metadata": {},
   "outputs": [
    {
     "name": "stdout",
     "output_type": "stream",
     "text": [
      "Mean Absolute Error: 1.7555418755002397\n",
      "Mean Squared Error: 6.90831274394269\n",
      "Mean Absolute Percentage: 0.0325701760912322\n"
     ]
    }
   ],
   "source": [
    "print(\"Mean Absolute Error:\",mean_absolute_error(y['2022'],res['AQI']))\n",
    "print(\"Mean Squared Error:\",mean_squared_error(y['2022'],res['AQI']))\n",
    "print('Mean Absolute Percentage:',mean_absolute_percentage_error(y['2022'],res['AQI']))"
   ]
  },
  {
   "cell_type": "markdown",
   "metadata": {},
   "source": [
    "### Predicting future pollutant values"
   ]
  },
  {
   "cell_type": "code",
   "execution_count": 98,
   "metadata": {},
   "outputs": [],
   "source": [
    "ad_so2.index = pd.to_datetime(ad_so2['Year'].astype(str) + '-' + ad_so2['Month'], format='%Y-%b')\n",
    "ad_so2.drop(['Year', 'Month'], axis=1, inplace=True)\n",
    "ad_so2=ad_so2.sort_index()"
   ]
  },
  {
   "cell_type": "code",
   "execution_count": 99,
   "metadata": {},
   "outputs": [],
   "source": [
    "ad_nox.index = pd.to_datetime(ad_nox['Year'].astype(str) + '-' + ad_nox['Month'], format='%Y-%b')\n",
    "ad_nox.drop(['Year', 'Month'], axis=1, inplace=True)\n",
    "ad_nox=ad_nox.sort_index()"
   ]
  },
  {
   "cell_type": "code",
   "execution_count": 100,
   "metadata": {},
   "outputs": [],
   "source": [
    "ad_pm10.index = pd.to_datetime(ad_pm10['Year'].astype(str) + '-' + ad_pm10['Month'], format='%Y-%b')\n",
    "ad_pm10.drop(['Year', 'Month'], axis=1, inplace=True)\n",
    "ad_pm10=ad_pm10.sort_index()"
   ]
  },
  {
   "cell_type": "code",
   "execution_count": 101,
   "metadata": {},
   "outputs": [],
   "source": [
    "#Performing exponential smoothing for the data to predict future dependent variables\n",
    "\n",
    "from statsmodels.tsa.api import ExponentialSmoothing\n",
    "model_so2= ExponentialSmoothing(ad_so2[:'2020'], trend='add', seasonal='mul')\n",
    "fit_so2 = model_so2.fit(optimized=True)\n",
    "fore_so2 = fit_so2.forecast(12)\n",
    "\n",
    "from statsmodels.tsa.api import ExponentialSmoothing\n",
    "model_nox= ExponentialSmoothing(ad_nox[:'2020'], trend='add', seasonal='mul')\n",
    "fit_nox = model_nox.fit(optimized=True)\n",
    "fore_nox = fit_nox.forecast(12)\n",
    "\n",
    "\n",
    "from statsmodels.tsa.api import ExponentialSmoothing\n",
    "model_pm10= ExponentialSmoothing(ad_pm10[:'2020'], trend='add', seasonal='mul')\n",
    "fit_pm10 = model_pm10.fit(optimized=True)\n",
    "fore_pm10 = fit_pm10.forecast(12)\n"
   ]
  },
  {
   "cell_type": "code",
   "execution_count": 102,
   "metadata": {},
   "outputs": [
    {
     "name": "stdout",
     "output_type": "stream",
     "text": [
      "Mean Absolute Error for so2: 0.9929669673588934\n",
      "Mean Absolute Error for nox: 2.8551150685656084\n",
      "MAPE for PM10: 16.74121576656466\n"
     ]
    }
   ],
   "source": [
    "#Accuracy\n",
    "from sklearn.metrics import mean_absolute_percentage_error,mean_absolute_error\n",
    "mae_so2 = mean_absolute_error(ad_so2['2021'],fore_so2['2021'] )\n",
    "print('Mean Absolute Error for so2:', mae_so2)\n",
    "mae_nox = mean_absolute_error(ad_nox['2022'],fore_nox )\n",
    "print('Mean Absolute Error for nox:', mae_nox)\n",
    "mae_pm10 = mean_absolute_error(ad_pm10['2022'],fore_pm10 )\n",
    "print('MAPE for PM10:', mae_pm10)\n"
   ]
  },
  {
   "cell_type": "markdown",
   "metadata": {},
   "source": [
    "### Combining the data"
   ]
  },
  {
   "cell_type": "code",
   "execution_count": 103,
   "metadata": {},
   "outputs": [],
   "source": [
    "forecast_df=pd.DataFrame(fore_so2,columns=['SO2'])\n",
    "forecast_df['NOX']=fore_so2\n",
    "forecast_df['PM10']=fore_pm10"
   ]
  },
  {
   "cell_type": "code",
   "execution_count": 104,
   "metadata": {},
   "outputs": [
    {
     "data": {
      "text/html": [
       "<div>\n",
       "<style scoped>\n",
       "    .dataframe tbody tr th:only-of-type {\n",
       "        vertical-align: middle;\n",
       "    }\n",
       "\n",
       "    .dataframe tbody tr th {\n",
       "        vertical-align: top;\n",
       "    }\n",
       "\n",
       "    .dataframe thead th {\n",
       "        text-align: right;\n",
       "    }\n",
       "</style>\n",
       "<table border=\"1\" class=\"dataframe\">\n",
       "  <thead>\n",
       "    <tr style=\"text-align: right;\">\n",
       "      <th></th>\n",
       "      <th>SO2</th>\n",
       "      <th>NOX</th>\n",
       "      <th>PM10</th>\n",
       "    </tr>\n",
       "  </thead>\n",
       "  <tbody>\n",
       "    <tr>\n",
       "      <th>2021-01-01</th>\n",
       "      <td>5.300570</td>\n",
       "      <td>5.300570</td>\n",
       "      <td>74.714109</td>\n",
       "    </tr>\n",
       "    <tr>\n",
       "      <th>2021-02-01</th>\n",
       "      <td>5.314102</td>\n",
       "      <td>5.314102</td>\n",
       "      <td>77.343808</td>\n",
       "    </tr>\n",
       "    <tr>\n",
       "      <th>2021-03-01</th>\n",
       "      <td>5.209848</td>\n",
       "      <td>5.209848</td>\n",
       "      <td>76.890830</td>\n",
       "    </tr>\n",
       "    <tr>\n",
       "      <th>2021-04-01</th>\n",
       "      <td>4.598006</td>\n",
       "      <td>4.598006</td>\n",
       "      <td>73.637062</td>\n",
       "    </tr>\n",
       "    <tr>\n",
       "      <th>2021-05-01</th>\n",
       "      <td>4.916682</td>\n",
       "      <td>4.916682</td>\n",
       "      <td>79.220416</td>\n",
       "    </tr>\n",
       "    <tr>\n",
       "      <th>2021-06-01</th>\n",
       "      <td>4.652429</td>\n",
       "      <td>4.652429</td>\n",
       "      <td>75.902724</td>\n",
       "    </tr>\n",
       "    <tr>\n",
       "      <th>2021-07-01</th>\n",
       "      <td>5.012746</td>\n",
       "      <td>5.012746</td>\n",
       "      <td>72.623358</td>\n",
       "    </tr>\n",
       "    <tr>\n",
       "      <th>2021-08-01</th>\n",
       "      <td>4.656770</td>\n",
       "      <td>4.656770</td>\n",
       "      <td>72.713720</td>\n",
       "    </tr>\n",
       "    <tr>\n",
       "      <th>2021-09-01</th>\n",
       "      <td>4.889956</td>\n",
       "      <td>4.889956</td>\n",
       "      <td>66.725228</td>\n",
       "    </tr>\n",
       "    <tr>\n",
       "      <th>2021-10-01</th>\n",
       "      <td>5.016688</td>\n",
       "      <td>5.016688</td>\n",
       "      <td>73.558264</td>\n",
       "    </tr>\n",
       "    <tr>\n",
       "      <th>2021-11-01</th>\n",
       "      <td>5.170987</td>\n",
       "      <td>5.170987</td>\n",
       "      <td>74.448511</td>\n",
       "    </tr>\n",
       "    <tr>\n",
       "      <th>2021-12-01</th>\n",
       "      <td>5.173815</td>\n",
       "      <td>5.173815</td>\n",
       "      <td>76.716560</td>\n",
       "    </tr>\n",
       "  </tbody>\n",
       "</table>\n",
       "</div>"
      ],
      "text/plain": [
       "                 SO2       NOX       PM10\n",
       "2021-01-01  5.300570  5.300570  74.714109\n",
       "2021-02-01  5.314102  5.314102  77.343808\n",
       "2021-03-01  5.209848  5.209848  76.890830\n",
       "2021-04-01  4.598006  4.598006  73.637062\n",
       "2021-05-01  4.916682  4.916682  79.220416\n",
       "2021-06-01  4.652429  4.652429  75.902724\n",
       "2021-07-01  5.012746  5.012746  72.623358\n",
       "2021-08-01  4.656770  4.656770  72.713720\n",
       "2021-09-01  4.889956  4.889956  66.725228\n",
       "2021-10-01  5.016688  5.016688  73.558264\n",
       "2021-11-01  5.170987  5.170987  74.448511\n",
       "2021-12-01  5.173815  5.173815  76.716560"
      ]
     },
     "execution_count": 104,
     "metadata": {},
     "output_type": "execute_result"
    }
   ],
   "source": [
    "forecast_df"
   ]
  },
  {
   "cell_type": "code",
   "execution_count": 105,
   "metadata": {},
   "outputs": [
    {
     "name": "stdout",
     "output_type": "stream",
     "text": [
      "         AQI Level of Concern\n",
      "0   5.156858             Good\n",
      "1   3.900699             Good\n",
      "2   4.055301             Good\n",
      "3   5.248870             Good\n",
      "4   2.757542             Good\n",
      "5   4.192525             Good\n",
      "6   5.987639             Good\n",
      "7   5.728432             Good\n",
      "8   8.749041             Good\n",
      "9   5.540525             Good\n",
      "10  5.206016             Good\n",
      "11  4.117250             Good\n"
     ]
    }
   ],
   "source": [
    "final_pred=predictor(forecast_df)\n"
   ]
  },
  {
   "cell_type": "code",
   "execution_count": 109,
   "metadata": {},
   "outputs": [],
   "source": [
    "final_pred.to_csv('Alidabad2023.csv')"
   ]
  }
 ],
 "metadata": {
  "interpreter": {
   "hash": "5b124afded074c70b1168b021b33622efccdf1097854b00f22ff1bd7656ffa95"
  },
  "kernelspec": {
   "display_name": "Python 3.9.12 ('base')",
   "language": "python",
   "name": "python3"
  },
  "language_info": {
   "codemirror_mode": {
    "name": "ipython",
    "version": 3
   },
   "file_extension": ".py",
   "mimetype": "text/x-python",
   "name": "python",
   "nbconvert_exporter": "python",
   "pygments_lexer": "ipython3",
   "version": "3.9.12"
  },
  "orig_nbformat": 4
 },
 "nbformat": 4,
 "nbformat_minor": 2
}
