{
 "cells": [
  {
   "cell_type": "markdown",
   "metadata": {},
   "source": [
    "### Importing libraries"
   ]
  },
  {
   "cell_type": "code",
   "execution_count": 29,
   "metadata": {},
   "outputs": [],
   "source": [
    "import pandas as pd\n",
    "from sklearn.preprocessing import StandardScaler\n",
    "from sklearn.ensemble import RandomForestRegressor\n",
    "from sklearn.svm import SVR\n",
    "from sklearn.linear_model import LinearRegression,Ridge,Lasso\n",
    "from sklearn.model_selection import GridSearchCV,cross_val_score\n",
    "from sklearn.metrics import r2_score\n",
    "import warnings\n",
    "warnings.filterwarnings(\"ignore\")\n",
    "import numpy as np\n",
    "from sklearn.metrics import mean_absolute_percentage_error,mean_squared_error,mean_absolute_error"
   ]
  },
  {
   "cell_type": "markdown",
   "metadata": {},
   "source": [
    "### Importing Datasets"
   ]
  },
  {
   "cell_type": "code",
   "execution_count": 30,
   "metadata": {},
   "outputs": [],
   "source": [
    "khm_so2=pd.read_excel(r'khammam_so2.xlsx')\n",
    "khm_nox=pd.read_excel(r'khammam_no2.xlsx')\n",
    "khm_pm10=pd.read_excel(r'khammam_PM10.xlsx')\n",
    "khm_aqi=pd.read_excel(r'khammam_aqi.xlsx')"
   ]
  },
  {
   "cell_type": "markdown",
   "metadata": {},
   "source": [
    "### Filling the null values row-wise as there seems to more yearly relation than monthly relation for each pollutant"
   ]
  },
  {
   "cell_type": "code",
   "execution_count": 31,
   "metadata": {},
   "outputs": [],
   "source": [
    "for i in range(0,7):\n",
    "    khm_so2.iloc[i,1:]=khm_so2.iloc[i,1:].fillna(khm_so2.iloc[i,1:].mean())\n",
    "    khm_nox.iloc[i,1:]=khm_nox.iloc[i,1:].fillna(khm_nox.iloc[i,1:].mean())\n",
    "    khm_pm10.iloc[i,1:]=khm_pm10.iloc[i,1:].fillna(khm_pm10.iloc[i,1:].mean())\n",
    "    khm_aqi.iloc[i,1:]=khm_aqi.iloc[i,1:].fillna(khm_aqi.iloc[i,1:].mean())"
   ]
  },
  {
   "cell_type": "markdown",
   "metadata": {},
   "source": [
    "### Reorganizing the data for a combined dataset."
   ]
  },
  {
   "cell_type": "code",
   "execution_count": 32,
   "metadata": {},
   "outputs": [],
   "source": [
    "khm_so2 = khm_so2.melt(id_vars=[\"Year\"], var_name=\"Month\", value_name=\"SO2\")\n",
    "khm_nox = khm_nox.melt(id_vars=[\"Year\"], var_name=\"Month\", value_name=\"NOX\")\n",
    "khm_pm10 = khm_pm10.melt(id_vars=[\"Year\"], var_name=\"Month\", value_name=\"PM10\")\n",
    "khm_aqi = khm_aqi.melt(id_vars=[\"Year\"], var_name=\"Month\", value_name=\"AQI\")"
   ]
  },
  {
   "cell_type": "markdown",
   "metadata": {},
   "source": [
    "### Organizing the data for better model usage"
   ]
  },
  {
   "cell_type": "code",
   "execution_count": 33,
   "metadata": {},
   "outputs": [
    {
     "data": {
      "text/html": [
       "<div>\n",
       "<style scoped>\n",
       "    .dataframe tbody tr th:only-of-type {\n",
       "        vertical-align: middle;\n",
       "    }\n",
       "\n",
       "    .dataframe tbody tr th {\n",
       "        vertical-align: top;\n",
       "    }\n",
       "\n",
       "    .dataframe thead th {\n",
       "        text-align: right;\n",
       "    }\n",
       "</style>\n",
       "<table border=\"1\" class=\"dataframe\">\n",
       "  <thead>\n",
       "    <tr style=\"text-align: right;\">\n",
       "      <th></th>\n",
       "      <th>PM10</th>\n",
       "      <th>NOX</th>\n",
       "      <th>SO2</th>\n",
       "      <th>AQI</th>\n",
       "    </tr>\n",
       "  </thead>\n",
       "  <tbody>\n",
       "    <tr>\n",
       "      <th>2016-01-01</th>\n",
       "      <td>46.0</td>\n",
       "      <td>19.0</td>\n",
       "      <td>6.0</td>\n",
       "      <td>46.666667</td>\n",
       "    </tr>\n",
       "    <tr>\n",
       "      <th>2016-02-01</th>\n",
       "      <td>51.0</td>\n",
       "      <td>19.0</td>\n",
       "      <td>7.0</td>\n",
       "      <td>51.333333</td>\n",
       "    </tr>\n",
       "    <tr>\n",
       "      <th>2016-03-01</th>\n",
       "      <td>54.0</td>\n",
       "      <td>20.7</td>\n",
       "      <td>6.1</td>\n",
       "      <td>53.888889</td>\n",
       "    </tr>\n",
       "    <tr>\n",
       "      <th>2016-04-01</th>\n",
       "      <td>51.0</td>\n",
       "      <td>19.0</td>\n",
       "      <td>8.0</td>\n",
       "      <td>50.814815</td>\n",
       "    </tr>\n",
       "    <tr>\n",
       "      <th>2016-05-01</th>\n",
       "      <td>47.0</td>\n",
       "      <td>19.0</td>\n",
       "      <td>7.0</td>\n",
       "      <td>47.444444</td>\n",
       "    </tr>\n",
       "    <tr>\n",
       "      <th>...</th>\n",
       "      <td>...</td>\n",
       "      <td>...</td>\n",
       "      <td>...</td>\n",
       "      <td>...</td>\n",
       "    </tr>\n",
       "    <tr>\n",
       "      <th>2021-08-01</th>\n",
       "      <td>67.0</td>\n",
       "      <td>35.9</td>\n",
       "      <td>6.0</td>\n",
       "      <td>67.000000</td>\n",
       "    </tr>\n",
       "    <tr>\n",
       "      <th>2021-09-01</th>\n",
       "      <td>85.0</td>\n",
       "      <td>34.0</td>\n",
       "      <td>9.2</td>\n",
       "      <td>84.938737</td>\n",
       "    </tr>\n",
       "    <tr>\n",
       "      <th>2021-10-01</th>\n",
       "      <td>61.0</td>\n",
       "      <td>31.0</td>\n",
       "      <td>7.4</td>\n",
       "      <td>61.000000</td>\n",
       "    </tr>\n",
       "    <tr>\n",
       "      <th>2021-11-01</th>\n",
       "      <td>86.0</td>\n",
       "      <td>37.6</td>\n",
       "      <td>7.5</td>\n",
       "      <td>86.000000</td>\n",
       "    </tr>\n",
       "    <tr>\n",
       "      <th>2021-12-01</th>\n",
       "      <td>78.0</td>\n",
       "      <td>41.8</td>\n",
       "      <td>7.0</td>\n",
       "      <td>78.000000</td>\n",
       "    </tr>\n",
       "  </tbody>\n",
       "</table>\n",
       "<p>72 rows × 4 columns</p>\n",
       "</div>"
      ],
      "text/plain": [
       "            PM10   NOX  SO2        AQI\n",
       "2016-01-01  46.0  19.0  6.0  46.666667\n",
       "2016-02-01  51.0  19.0  7.0  51.333333\n",
       "2016-03-01  54.0  20.7  6.1  53.888889\n",
       "2016-04-01  51.0  19.0  8.0  50.814815\n",
       "2016-05-01  47.0  19.0  7.0  47.444444\n",
       "...          ...   ...  ...        ...\n",
       "2021-08-01  67.0  35.9  6.0  67.000000\n",
       "2021-09-01  85.0  34.0  9.2  84.938737\n",
       "2021-10-01  61.0  31.0  7.4  61.000000\n",
       "2021-11-01  86.0  37.6  7.5  86.000000\n",
       "2021-12-01  78.0  41.8  7.0  78.000000\n",
       "\n",
       "[72 rows x 4 columns]"
      ]
     },
     "execution_count": 33,
     "metadata": {},
     "output_type": "execute_result"
    }
   ],
   "source": [
    "khm_poll = pd.merge(khm_pm10, khm_nox, on=['Month','Year'])\n",
    "khm_poll = pd.merge(khm_poll, khm_so2, on=['Month','Year'])\n",
    "khm_final=pd.merge(khm_poll,khm_aqi,on=['Month','Year'])\n",
    "khm_final.index = pd.to_datetime(khm_final['Year'].astype(str) + '-' + khm_final['Month'], format='%Y-%b')\n",
    "khm_final.drop(['Year', 'Month'], axis=1, inplace=True)\n",
    "khm_final=khm_final.sort_index()\n",
    "khm_final['2016':'2021']"
   ]
  },
  {
   "cell_type": "markdown",
   "metadata": {},
   "source": [
    "### Test Train Split"
   ]
  },
  {
   "cell_type": "code",
   "execution_count": 34,
   "metadata": {},
   "outputs": [],
   "source": [
    "X_=khm_final.iloc[:,:-1]\n",
    "y=khm_final.iloc[:,-1]"
   ]
  },
  {
   "cell_type": "code",
   "execution_count": 35,
   "metadata": {},
   "outputs": [],
   "source": [
    "#Scalling the Data to improve model perfomance and bring features into similar range\n",
    "ss=StandardScaler()\n",
    "X=ss.fit_transform(X_)\n",
    "X=pd.DataFrame(X,columns=khm_final.columns[:-1])"
   ]
  },
  {
   "cell_type": "code",
   "execution_count": 36,
   "metadata": {},
   "outputs": [],
   "source": [
    "from sklearn.model_selection import train_test_split\n",
    "X_train,X_test,y_train,y_test=train_test_split(X,y,random_state=66,test_size=0.25)"
   ]
  },
  {
   "cell_type": "markdown",
   "metadata": {},
   "source": [
    "### Perfoming Hyper-parameter tuning with comparison with other models"
   ]
  },
  {
   "cell_type": "code",
   "execution_count": 37,
   "metadata": {},
   "outputs": [],
   "source": [
    "#Listing Parameters\n",
    "\n",
    "rf_params = {'n_estimators': [500,300,100,800,1000], 'max_depth': [12,15,10,5,7,3]}\n",
    "\n",
    "lr_param_grid = {}\n",
    "\n",
    "svr_param_grid = {'kernel': ['linear', 'rbf'], 'C': [0.1, 1, 10], 'gamma': [0.1, 1, 10]}"
   ]
  },
  {
   "cell_type": "code",
   "execution_count": 38,
   "metadata": {},
   "outputs": [],
   "source": [
    "# create models\n",
    "rf_model = RandomForestRegressor(random_state=42)\n",
    "lr_model = LinearRegression()\n",
    "svr_model = SVR()"
   ]
  },
  {
   "cell_type": "code",
   "execution_count": 39,
   "metadata": {},
   "outputs": [],
   "source": [
    "# create GridSearchCV objects\n",
    "rf_grid = GridSearchCV(rf_model, rf_params, cv=5)\n",
    "lr_grid = GridSearchCV(lr_model, lr_param_grid)\n",
    "svr_grid = GridSearchCV(svr_model, svr_param_grid)"
   ]
  },
  {
   "cell_type": "code",
   "execution_count": 40,
   "metadata": {},
   "outputs": [
    {
     "data": {
      "text/plain": [
       "GridSearchCV(estimator=SVR(),\n",
       "             param_grid={'C': [0.1, 1, 10], 'gamma': [0.1, 1, 10],\n",
       "                         'kernel': ['linear', 'rbf']})"
      ]
     },
     "execution_count": 40,
     "metadata": {},
     "output_type": "execute_result"
    }
   ],
   "source": [
    "# fit the models\n",
    "rf_grid.fit(X_train, y_train)\n",
    "lr_grid.fit(X_train, y_train)\n",
    "svr_grid.fit(X_train, y_train)"
   ]
  },
  {
   "cell_type": "code",
   "execution_count": 41,
   "metadata": {},
   "outputs": [],
   "source": [
    "# get the best hyperparameters\n",
    "rf_best_params = rf_grid.best_params_\n",
    "lr_best_params = lr_grid.best_params_\n",
    "svr_best_params = svr_grid.best_params_"
   ]
  },
  {
   "cell_type": "code",
   "execution_count": 42,
   "metadata": {},
   "outputs": [],
   "source": [
    "# create new models with the best hyperparameters\n",
    "rf_best_model = RandomForestRegressor(**rf_best_params, random_state=42)\n",
    "lr_best_model = LinearRegression(**lr_best_params)\n",
    "svr_best_model = SVR(**svr_best_params)"
   ]
  },
  {
   "cell_type": "code",
   "execution_count": 43,
   "metadata": {},
   "outputs": [
    {
     "data": {
      "text/plain": [
       "SVR(C=1, gamma=0.1, kernel='linear')"
      ]
     },
     "execution_count": 43,
     "metadata": {},
     "output_type": "execute_result"
    }
   ],
   "source": [
    "# fit the best models\n",
    "rf_best_model.fit(X_train, y_train)\n",
    "lr_best_model.fit(X_train, y_train)\n",
    "svr_best_model.fit(X_train, y_train)"
   ]
  },
  {
   "cell_type": "code",
   "execution_count": 44,
   "metadata": {},
   "outputs": [],
   "source": [
    "# make predictions\n",
    "rf_preds = rf_best_model.predict(X_test)\n",
    "lr_preds = lr_best_model.predict(X_test)\n",
    "svr_preds = svr_best_model.predict(X_test)"
   ]
  },
  {
   "cell_type": "markdown",
   "metadata": {},
   "source": [
    "### Checking individual model performace"
   ]
  },
  {
   "cell_type": "code",
   "execution_count": 45,
   "metadata": {},
   "outputs": [
    {
     "name": "stdout",
     "output_type": "stream",
     "text": [
      "Random Forest R2 Score: 0.9363947935075052\n",
      "Linear Regression R2 Score: 0.9601112131975434\n",
      "Support Vector Regressor R2 Score: 0.9775007671278183\n"
     ]
    }
   ],
   "source": [
    "# calculate r2 scores\n",
    "\n",
    "rf_r2 = r2_score(y_test, rf_preds)\n",
    "print(f\"Random Forest R2 Score: {rf_r2}\")\n",
    "\n",
    "lr_r2 = r2_score(y_test, lr_preds)\n",
    "print(f\"Linear Regression R2 Score: {lr_r2}\")\n",
    "\n",
    "svr_r2 = r2_score(y_test, svr_preds)\n",
    "print(f\"Support Vector Regressor R2 Score: {svr_r2}\")"
   ]
  },
  {
   "cell_type": "markdown",
   "metadata": {},
   "source": [
    "### Checking Ridge and Lasso Regression and cross validation to prevent overfitting"
   ]
  },
  {
   "cell_type": "code",
   "execution_count": 46,
   "metadata": {},
   "outputs": [],
   "source": [
    "lr = LinearRegression()\n",
    "ridge = Ridge()\n",
    "lasso = Lasso()\n",
    "rf = RandomForestRegressor()\n",
    "svr = SVR()\n",
    "\n",
    "lr_params = {'normalize': [True, False]}\n",
    "ridge_params = {'alpha': [0.01, 0.1, 1, 10, 100]}\n",
    "lasso_params = {'alpha': [0.01, 0.1, 1, 10, 100]}\n",
    "rf_params = {'n_estimators': [500,300,100,800,1000], 'max_depth':[12,15,10,5,7,3] }\n",
    "svr_params = {'C': [0.1, 1, 10], 'gamma': [0.1, 1, 10], 'kernel': ['linear', 'rbf']}"
   ]
  },
  {
   "cell_type": "code",
   "execution_count": 47,
   "metadata": {},
   "outputs": [],
   "source": [
    "models = {'Linear Regression': (lr, lr_params),\n",
    "          'Ridge Regression': (ridge, ridge_params),\n",
    "          'Lasso Regression': (lasso, lasso_params),\n",
    "          'Random Forest Regression': (rf, rf_params),\n",
    "          'Support Vector Regression': (svr, svr_params)}"
   ]
  },
  {
   "cell_type": "code",
   "execution_count": 48,
   "metadata": {},
   "outputs": [
    {
     "name": "stdout",
     "output_type": "stream",
     "text": [
      "Linear Regression: 0.978 (±0.000)\n",
      "Ridge Regression: 0.960 (±0.018)\n",
      "Lasso Regression: 0.976 (±0.002)\n",
      "Random Forest Regression: 0.760 (±0.078)\n",
      "Support Vector Regression: 0.987 (±0.005)\n"
     ]
    }
   ],
   "source": [
    "models = {'Linear Regression': (lr, lr_params),\n",
    "          'Ridge Regression': (ridge, ridge_params),\n",
    "          'Lasso Regression': (lasso, lasso_params),\n",
    "          'Random Forest Regression': (rf, rf_params),\n",
    "          'Support Vector Regression': (svr, svr_params)}\n",
    "for name, (model, params) in models.items():\n",
    "    gs = GridSearchCV(model, params, cv=2,n_jobs=-1)\n",
    "    scores = cross_val_score(gs, X_test, y_test, cv=2, scoring='r2')\n",
    "    print(f'{name}: {scores.mean():.3f} (±{scores.std():.3f})')"
   ]
  },
  {
   "cell_type": "markdown",
   "metadata": {},
   "source": [
    "### Performing ensemble methods and full model accuracy"
   ]
  },
  {
   "cell_type": "code",
   "execution_count": 49,
   "metadata": {},
   "outputs": [],
   "source": [
    "import numpy as np\n",
    "f_pred=[]\n",
    "f_pred.append((rf_preds+lr_preds+svr_preds)/3)\n",
    "f_pred=np.array(f_pred)\n",
    "f_pred=f_pred.reshape(-1,1)"
   ]
  },
  {
   "cell_type": "code",
   "execution_count": 50,
   "metadata": {},
   "outputs": [
    {
     "name": "stdout",
     "output_type": "stream",
     "text": [
      " R2 Score: 0.9632557016736956\n",
      " Mean Absolute Percentage Error: 0.03284906852676318\n",
      "Mean Squared Error : 0.03284906852676318\n"
     ]
    }
   ],
   "source": [
    "rr2 = r2_score(y_test, f_pred)\n",
    "print(f\" R2 Score: {rr2}\")\n",
    "\n",
    "mape = mean_absolute_percentage_error(y_test, f_pred)\n",
    "print(f\" Mean Absolute Percentage Error: {mape}\")\n",
    "\n",
    "mse=mean_squared_error(y_test,f_pred)\n",
    "print(f\"Mean Squared Error : {mape}\")\n"
   ]
  },
  {
   "cell_type": "markdown",
   "metadata": {},
   "source": [
    "### Final Predictions\n"
   ]
  },
  {
   "cell_type": "code",
   "execution_count": 51,
   "metadata": {},
   "outputs": [],
   "source": [
    "loc=[]\n",
    "for i in f_pred:\n",
    "    if (i>=0) and i<=50:\n",
    "        loc.append('Good')\n",
    "    elif i>=51 and i<=100:\n",
    "        loc.append('Moderate')\n",
    "    elif i>=101 and i<=150:\n",
    "        loc.append('Unhealthy for Sensitive Groups')\n",
    "    elif i>=151 and i<=200:\n",
    "        loc.append('Unhealthy')\n",
    "    elif i>=201 and i<=300:\n",
    "        loc.append('Very Unhealthy')\n",
    "    else:\n",
    "        loc.append('Hazardous')\n",
    "y_test=pd.DataFrame(y_test)\n",
    "y_test['Level of Concern']=loc"
   ]
  },
  {
   "cell_type": "code",
   "execution_count": 52,
   "metadata": {},
   "outputs": [
    {
     "data": {
      "text/html": [
       "<div>\n",
       "<style scoped>\n",
       "    .dataframe tbody tr th:only-of-type {\n",
       "        vertical-align: middle;\n",
       "    }\n",
       "\n",
       "    .dataframe tbody tr th {\n",
       "        vertical-align: top;\n",
       "    }\n",
       "\n",
       "    .dataframe thead th {\n",
       "        text-align: right;\n",
       "    }\n",
       "</style>\n",
       "<table border=\"1\" class=\"dataframe\">\n",
       "  <thead>\n",
       "    <tr style=\"text-align: right;\">\n",
       "      <th></th>\n",
       "      <th>AQI</th>\n",
       "      <th>Level of Concern</th>\n",
       "    </tr>\n",
       "  </thead>\n",
       "  <tbody>\n",
       "    <tr>\n",
       "      <th>2019-08-01</th>\n",
       "      <td>84.083333</td>\n",
       "      <td>Moderate</td>\n",
       "    </tr>\n",
       "    <tr>\n",
       "      <th>2021-09-01</th>\n",
       "      <td>84.938737</td>\n",
       "      <td>Moderate</td>\n",
       "    </tr>\n",
       "    <tr>\n",
       "      <th>2017-04-01</th>\n",
       "      <td>54.555556</td>\n",
       "      <td>Moderate</td>\n",
       "    </tr>\n",
       "    <tr>\n",
       "      <th>2018-10-01</th>\n",
       "      <td>84.697653</td>\n",
       "      <td>Moderate</td>\n",
       "    </tr>\n",
       "    <tr>\n",
       "      <th>2019-11-01</th>\n",
       "      <td>84.851852</td>\n",
       "      <td>Moderate</td>\n",
       "    </tr>\n",
       "    <tr>\n",
       "      <th>2020-01-01</th>\n",
       "      <td>88.296296</td>\n",
       "      <td>Moderate</td>\n",
       "    </tr>\n",
       "    <tr>\n",
       "      <th>2021-11-01</th>\n",
       "      <td>86.000000</td>\n",
       "      <td>Moderate</td>\n",
       "    </tr>\n",
       "    <tr>\n",
       "      <th>2020-05-01</th>\n",
       "      <td>63.000000</td>\n",
       "      <td>Moderate</td>\n",
       "    </tr>\n",
       "    <tr>\n",
       "      <th>2022-09-01</th>\n",
       "      <td>42.000000</td>\n",
       "      <td>Good</td>\n",
       "    </tr>\n",
       "    <tr>\n",
       "      <th>2022-02-01</th>\n",
       "      <td>78.079300</td>\n",
       "      <td>Moderate</td>\n",
       "    </tr>\n",
       "    <tr>\n",
       "      <th>2016-04-01</th>\n",
       "      <td>50.814815</td>\n",
       "      <td>Moderate</td>\n",
       "    </tr>\n",
       "    <tr>\n",
       "      <th>2022-12-01</th>\n",
       "      <td>115.000000</td>\n",
       "      <td>Hazardous</td>\n",
       "    </tr>\n",
       "    <tr>\n",
       "      <th>2021-03-01</th>\n",
       "      <td>68.000000</td>\n",
       "      <td>Moderate</td>\n",
       "    </tr>\n",
       "    <tr>\n",
       "      <th>2016-09-01</th>\n",
       "      <td>38.571429</td>\n",
       "      <td>Good</td>\n",
       "    </tr>\n",
       "    <tr>\n",
       "      <th>2019-02-01</th>\n",
       "      <td>90.444444</td>\n",
       "      <td>Moderate</td>\n",
       "    </tr>\n",
       "    <tr>\n",
       "      <th>2019-03-01</th>\n",
       "      <td>90.666667</td>\n",
       "      <td>Moderate</td>\n",
       "    </tr>\n",
       "    <tr>\n",
       "      <th>2020-08-01</th>\n",
       "      <td>37.142857</td>\n",
       "      <td>Good</td>\n",
       "    </tr>\n",
       "    <tr>\n",
       "      <th>2021-12-01</th>\n",
       "      <td>78.000000</td>\n",
       "      <td>Moderate</td>\n",
       "    </tr>\n",
       "    <tr>\n",
       "      <th>2018-01-01</th>\n",
       "      <td>64.000000</td>\n",
       "      <td>Moderate</td>\n",
       "    </tr>\n",
       "    <tr>\n",
       "      <th>2019-06-01</th>\n",
       "      <td>81.388889</td>\n",
       "      <td>Moderate</td>\n",
       "    </tr>\n",
       "    <tr>\n",
       "      <th>2022-07-01</th>\n",
       "      <td>72.500000</td>\n",
       "      <td>Moderate</td>\n",
       "    </tr>\n",
       "  </tbody>\n",
       "</table>\n",
       "</div>"
      ],
      "text/plain": [
       "                   AQI Level of Concern\n",
       "2019-08-01   84.083333         Moderate\n",
       "2021-09-01   84.938737         Moderate\n",
       "2017-04-01   54.555556         Moderate\n",
       "2018-10-01   84.697653         Moderate\n",
       "2019-11-01   84.851852         Moderate\n",
       "2020-01-01   88.296296         Moderate\n",
       "2021-11-01   86.000000         Moderate\n",
       "2020-05-01   63.000000         Moderate\n",
       "2022-09-01   42.000000             Good\n",
       "2022-02-01   78.079300         Moderate\n",
       "2016-04-01   50.814815         Moderate\n",
       "2022-12-01  115.000000        Hazardous\n",
       "2021-03-01   68.000000         Moderate\n",
       "2016-09-01   38.571429             Good\n",
       "2019-02-01   90.444444         Moderate\n",
       "2019-03-01   90.666667         Moderate\n",
       "2020-08-01   37.142857             Good\n",
       "2021-12-01   78.000000         Moderate\n",
       "2018-01-01   64.000000         Moderate\n",
       "2019-06-01   81.388889         Moderate\n",
       "2022-07-01   72.500000         Moderate"
      ]
     },
     "execution_count": 52,
     "metadata": {},
     "output_type": "execute_result"
    }
   ],
   "source": [
    "y_test"
   ]
  },
  {
   "cell_type": "markdown",
   "metadata": {},
   "source": [
    "### Predictor function"
   ]
  },
  {
   "cell_type": "code",
   "execution_count": 53,
   "metadata": {},
   "outputs": [],
   "source": [
    "def predictor(df):\n",
    "    df=ss.transform(df.values)\n",
    "    rfp=rf_best_model.predict(df)\n",
    "    lrp=lr_best_model.predict(df)\n",
    "    svrp=svr_best_model.predict(df)\n",
    "    f_pred=[]\n",
    "    f_pred.append((rfp+lrp+svrp)/3)\n",
    "    f_pred=np.array(f_pred)\n",
    "    f_pred=f_pred.reshape(-1,1)\n",
    "    loc=[]\n",
    "    for i in f_pred:\n",
    "        if (i>=0) and i<=50:\n",
    "            loc.append('Good')\n",
    "        elif i>=51 and i<=100:\n",
    "            loc.append('Moderate')\n",
    "        elif i>=101 and i<=150:\n",
    "            loc.append('Unhealthy for Sensitive Groups')\n",
    "        elif i>=151 and i<=200:\n",
    "            loc.append('Unhealthy')\n",
    "        elif i>=201 and i<=300:\n",
    "            loc.append('Very Unhealthy')\n",
    "        else:\n",
    "            loc.append('Hazardous')\n",
    "    df_p=pd.DataFrame(f_pred,columns=['AQI'])\n",
    "    df_p['AQI']=f_pred\n",
    "    df_p['Level of Concern']=np.array(loc).reshape(-1,1)\n",
    "    print(df_p)\n",
    "    return df_p"
   ]
  },
  {
   "cell_type": "code",
   "execution_count": 54,
   "metadata": {},
   "outputs": [
    {
     "name": "stdout",
     "output_type": "stream",
     "text": [
      "           AQI Level of Concern\n",
      "0    77.935181         Moderate\n",
      "1    76.597783         Moderate\n",
      "2    78.567762         Moderate\n",
      "3    78.784284         Moderate\n",
      "4    77.050971         Moderate\n",
      "5    81.311056         Moderate\n",
      "6    74.987407         Moderate\n",
      "7    59.977625         Moderate\n",
      "8    46.693894             Good\n",
      "9    58.293548         Moderate\n",
      "10   76.439837         Moderate\n",
      "11  100.382710        Hazardous\n"
     ]
    }
   ],
   "source": [
    "\n",
    "res=predictor(X_['2022'])"
   ]
  },
  {
   "cell_type": "code",
   "execution_count": 55,
   "metadata": {},
   "outputs": [
    {
     "name": "stdout",
     "output_type": "stream",
     "text": [
      "0.9233771594120797\n"
     ]
    }
   ],
   "source": [
    "print(r2_score(y['2022'],res['AQI']))"
   ]
  },
  {
   "cell_type": "code",
   "execution_count": 56,
   "metadata": {},
   "outputs": [
    {
     "name": "stdout",
     "output_type": "stream",
     "text": [
      "Mean Absolute Error: 2.7964890049924684\n",
      "Mean Squared Error: 21.765787197635646\n",
      "Mean Absolute Percentage: 0.03653681608050171\n"
     ]
    }
   ],
   "source": [
    "print(\"Mean Absolute Error:\",mean_absolute_error(y['2022'],res['AQI']))\n",
    "print(\"Mean Squared Error:\",mean_squared_error(y['2022'],res['AQI']))\n",
    "print('Mean Absolute Percentage:',mean_absolute_percentage_error(y['2022'],res['AQI']))"
   ]
  },
  {
   "cell_type": "code",
   "execution_count": 57,
   "metadata": {},
   "outputs": [],
   "source": [
    "khm_so2.index = pd.to_datetime(khm_so2['Year'].astype(str) + '-' + khm_so2['Month'], format='%Y-%b')\n",
    "khm_so2.drop(['Year', 'Month'], axis=1, inplace=True)\n",
    "khm_so2=khm_so2.sort_index()"
   ]
  },
  {
   "cell_type": "code",
   "execution_count": 58,
   "metadata": {},
   "outputs": [],
   "source": [
    "khm_nox.index = pd.to_datetime(khm_nox['Year'].astype(str) + '-' + khm_nox['Month'], format='%Y-%b')\n",
    "khm_nox.drop(['Year', 'Month'], axis=1, inplace=True)\n",
    "khm_nox=khm_nox.sort_index()"
   ]
  },
  {
   "cell_type": "code",
   "execution_count": 59,
   "metadata": {},
   "outputs": [],
   "source": [
    "khm_pm10.index = pd.to_datetime(khm_pm10['Year'].astype(str) + '-' + khm_pm10['Month'], format='%Y-%b')\n",
    "khm_pm10.drop(['Year', 'Month'], axis=1, inplace=True)\n",
    "khm_pm10=khm_pm10.sort_index()"
   ]
  },
  {
   "cell_type": "code",
   "execution_count": 60,
   "metadata": {},
   "outputs": [
    {
     "name": "stderr",
     "output_type": "stream",
     "text": [
      "c:\\braindedmemory\\Programming\\anaconda3\\lib\\site-packages\\statsmodels\\tsa\\base\\tsa_model.py:471: ValueWarning: No frequency information was provided, so inferred frequency MS will be used.\n",
      "  self._init_dates(dates, freq)\n",
      "c:\\braindedmemory\\Programming\\anaconda3\\lib\\site-packages\\statsmodels\\tsa\\base\\tsa_model.py:471: ValueWarning: No frequency information was provided, so inferred frequency MS will be used.\n",
      "  self._init_dates(dates, freq)\n",
      "c:\\braindedmemory\\Programming\\anaconda3\\lib\\site-packages\\statsmodels\\tsa\\base\\tsa_model.py:471: ValueWarning: No frequency information was provided, so inferred frequency MS will be used.\n",
      "  self._init_dates(dates, freq)\n"
     ]
    }
   ],
   "source": [
    "#Performing exponential smoothing for the data to predict future dependent variables\n",
    "\n",
    "from statsmodels.tsa.api import ExponentialSmoothing\n",
    "model_so2= ExponentialSmoothing(khm_so2[:'2020'], trend='add', seasonal='mul')\n",
    "fit_so2 = model_so2.fit(optimized=True)\n",
    "fore_so2 = fit_so2.forecast(12)\n",
    "\n",
    "from statsmodels.tsa.api import ExponentialSmoothing\n",
    "model_nox= ExponentialSmoothing(khm_nox[:'2020'], trend='add', seasonal='mul')\n",
    "fit_nox = model_nox.fit(optimized=True)\n",
    "fore_nox = fit_nox.forecast(12)\n",
    "\n",
    "\n",
    "from statsmodels.tsa.api import ExponentialSmoothing\n",
    "model_pm10= ExponentialSmoothing(khm_pm10[:'2020'], trend='add', seasonal='mul')\n",
    "fit_pm10 = model_pm10.fit(optimized=True)\n",
    "fore_pm10 = fit_pm10.forecast(12)"
   ]
  },
  {
   "cell_type": "code",
   "execution_count": 61,
   "metadata": {},
   "outputs": [
    {
     "name": "stdout",
     "output_type": "stream",
     "text": [
      "Mean Absolute Error for so2: 0.7411120842387614\n",
      "Mean Absolute Error for nox: 9.955428615318034\n",
      "MAPE for PM10: 23.079740293360345\n"
     ]
    }
   ],
   "source": [
    "#Accuracy\n",
    "from sklearn.metrics import mean_absolute_percentage_error,mean_absolute_error\n",
    "mae_so2 = mean_absolute_error(khm_so2['2021'],fore_so2['2021'] )\n",
    "print('Mean Absolute Error for so2:', mae_so2)\n",
    "mae_nox = mean_absolute_error(khm_nox['2022'],fore_nox )\n",
    "print('Mean Absolute Error for nox:', mae_nox)\n",
    "mae_pm10 = mean_absolute_error(khm_pm10['2022'],fore_pm10 )\n",
    "print('MAPE for PM10:', mae_pm10)"
   ]
  },
  {
   "cell_type": "code",
   "execution_count": 62,
   "metadata": {},
   "outputs": [
    {
     "data": {
      "text/html": [
       "<div>\n",
       "<style scoped>\n",
       "    .dataframe tbody tr th:only-of-type {\n",
       "        vertical-align: middle;\n",
       "    }\n",
       "\n",
       "    .dataframe tbody tr th {\n",
       "        vertical-align: top;\n",
       "    }\n",
       "\n",
       "    .dataframe thead th {\n",
       "        text-align: right;\n",
       "    }\n",
       "</style>\n",
       "<table border=\"1\" class=\"dataframe\">\n",
       "  <thead>\n",
       "    <tr style=\"text-align: right;\">\n",
       "      <th></th>\n",
       "      <th>SO2</th>\n",
       "      <th>NOX</th>\n",
       "      <th>PM10</th>\n",
       "    </tr>\n",
       "  </thead>\n",
       "  <tbody>\n",
       "    <tr>\n",
       "      <th>2021-01-01</th>\n",
       "      <td>7.278958</td>\n",
       "      <td>7.278958</td>\n",
       "      <td>104.490942</td>\n",
       "    </tr>\n",
       "    <tr>\n",
       "      <th>2021-02-01</th>\n",
       "      <td>7.471522</td>\n",
       "      <td>7.471522</td>\n",
       "      <td>103.125841</td>\n",
       "    </tr>\n",
       "    <tr>\n",
       "      <th>2021-03-01</th>\n",
       "      <td>7.260689</td>\n",
       "      <td>7.260689</td>\n",
       "      <td>102.792048</td>\n",
       "    </tr>\n",
       "    <tr>\n",
       "      <th>2021-04-01</th>\n",
       "      <td>7.748837</td>\n",
       "      <td>7.748837</td>\n",
       "      <td>102.768610</td>\n",
       "    </tr>\n",
       "    <tr>\n",
       "      <th>2021-05-01</th>\n",
       "      <td>7.364020</td>\n",
       "      <td>7.364020</td>\n",
       "      <td>94.034818</td>\n",
       "    </tr>\n",
       "    <tr>\n",
       "      <th>2021-06-01</th>\n",
       "      <td>7.252586</td>\n",
       "      <td>7.252586</td>\n",
       "      <td>87.605934</td>\n",
       "    </tr>\n",
       "    <tr>\n",
       "      <th>2021-07-01</th>\n",
       "      <td>7.465636</td>\n",
       "      <td>7.465636</td>\n",
       "      <td>81.722741</td>\n",
       "    </tr>\n",
       "    <tr>\n",
       "      <th>2021-08-01</th>\n",
       "      <td>6.962766</td>\n",
       "      <td>6.962766</td>\n",
       "      <td>88.341431</td>\n",
       "    </tr>\n",
       "    <tr>\n",
       "      <th>2021-09-01</th>\n",
       "      <td>7.372979</td>\n",
       "      <td>7.372979</td>\n",
       "      <td>85.352399</td>\n",
       "    </tr>\n",
       "    <tr>\n",
       "      <th>2021-10-01</th>\n",
       "      <td>7.154087</td>\n",
       "      <td>7.154087</td>\n",
       "      <td>95.717477</td>\n",
       "    </tr>\n",
       "    <tr>\n",
       "      <th>2021-11-01</th>\n",
       "      <td>7.069433</td>\n",
       "      <td>7.069433</td>\n",
       "      <td>103.822810</td>\n",
       "    </tr>\n",
       "    <tr>\n",
       "      <th>2021-12-01</th>\n",
       "      <td>7.499962</td>\n",
       "      <td>7.499962</td>\n",
       "      <td>109.400129</td>\n",
       "    </tr>\n",
       "  </tbody>\n",
       "</table>\n",
       "</div>"
      ],
      "text/plain": [
       "                 SO2       NOX        PM10\n",
       "2021-01-01  7.278958  7.278958  104.490942\n",
       "2021-02-01  7.471522  7.471522  103.125841\n",
       "2021-03-01  7.260689  7.260689  102.792048\n",
       "2021-04-01  7.748837  7.748837  102.768610\n",
       "2021-05-01  7.364020  7.364020   94.034818\n",
       "2021-06-01  7.252586  7.252586   87.605934\n",
       "2021-07-01  7.465636  7.465636   81.722741\n",
       "2021-08-01  6.962766  6.962766   88.341431\n",
       "2021-09-01  7.372979  7.372979   85.352399\n",
       "2021-10-01  7.154087  7.154087   95.717477\n",
       "2021-11-01  7.069433  7.069433  103.822810\n",
       "2021-12-01  7.499962  7.499962  109.400129"
      ]
     },
     "execution_count": 62,
     "metadata": {},
     "output_type": "execute_result"
    }
   ],
   "source": [
    "forecast_df=pd.DataFrame(fore_so2,columns=['SO2'])\n",
    "forecast_df['NOX']=fore_so2\n",
    "forecast_df['PM10']=fore_pm10\n",
    "forecast_df"
   ]
  },
  {
   "cell_type": "code",
   "execution_count": 63,
   "metadata": {},
   "outputs": [
    {
     "name": "stdout",
     "output_type": "stream",
     "text": [
      "          AQI Level of Concern\n",
      "0   39.345255             Good\n",
      "1   39.236406             Good\n",
      "2   39.030407             Good\n",
      "3   39.365747             Good\n",
      "4   37.544837             Good\n",
      "5   36.323983             Good\n",
      "6   35.425857             Good\n",
      "7   36.253218             Good\n",
      "8   36.006935             Good\n",
      "9   37.698082             Good\n",
      "10  39.080706             Good\n",
      "11  40.372043             Good\n"
     ]
    }
   ],
   "source": [
    "final_pred=predictor(forecast_df)"
   ]
  },
  {
   "cell_type": "code",
   "execution_count": 64,
   "metadata": {},
   "outputs": [],
   "source": [
    "final_pred.to_csv('Khammam2023.csv')"
   ]
  }
 ],
 "metadata": {
  "interpreter": {
   "hash": "5b124afded074c70b1168b021b33622efccdf1097854b00f22ff1bd7656ffa95"
  },
  "kernelspec": {
   "display_name": "Python 3.9.12 ('base')",
   "language": "python",
   "name": "python3"
  },
  "language_info": {
   "codemirror_mode": {
    "name": "ipython",
    "version": 3
   },
   "file_extension": ".py",
   "mimetype": "text/x-python",
   "name": "python",
   "nbconvert_exporter": "python",
   "pygments_lexer": "ipython3",
   "version": "3.9.12"
  },
  "orig_nbformat": 4
 },
 "nbformat": 4,
 "nbformat_minor": 2
}
