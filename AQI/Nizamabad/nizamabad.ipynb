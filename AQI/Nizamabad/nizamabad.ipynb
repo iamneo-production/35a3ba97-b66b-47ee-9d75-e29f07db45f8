{
 "cells": [
  {
   "cell_type": "markdown",
   "metadata": {},
   "source": [
    "### Importing libraries"
   ]
  },
  {
   "cell_type": "code",
   "execution_count": 28,
   "metadata": {},
   "outputs": [],
   "source": [
    "import pandas as pd\n",
    "from sklearn.preprocessing import StandardScaler\n",
    "from sklearn.ensemble import RandomForestRegressor\n",
    "from sklearn.svm import SVR\n",
    "from sklearn.linear_model import LinearRegression,Ridge,Lasso\n",
    "from sklearn.model_selection import GridSearchCV,cross_val_score\n",
    "from sklearn.metrics import r2_score\n",
    "import warnings\n",
    "warnings.filterwarnings(\"ignore\")\n",
    "import numpy as np\n",
    "from sklearn.metrics import mean_absolute_percentage_error,mean_squared_error,mean_absolute_error"
   ]
  },
  {
   "cell_type": "markdown",
   "metadata": {},
   "source": [
    "### Importing Datasets"
   ]
  },
  {
   "cell_type": "code",
   "execution_count": 2,
   "metadata": {},
   "outputs": [],
   "source": [
    "niz_so2=pd.read_excel(r'nizamabad_so2.xlsx')\n",
    "niz_nox=pd.read_excel(r'nizamabad_no2.xlsx')\n",
    "niz_pm10=pd.read_excel(r'nizamabad_PM10.xlsx')\n",
    "niz_aqi=pd.read_excel(r'nizamabad_aqi.xlsx')"
   ]
  },
  {
   "cell_type": "markdown",
   "metadata": {},
   "source": [
    "### Filling the null values row-wise as there seems to more yearly relation than monthly relation for each pollutant"
   ]
  },
  {
   "cell_type": "code",
   "execution_count": 3,
   "metadata": {},
   "outputs": [],
   "source": [
    "for i in range(0,7):\n",
    "    niz_so2.iloc[i,1:]=niz_so2.iloc[i,1:].fillna(niz_so2.iloc[i,1:].mean())\n",
    "    niz_nox.iloc[i,1:]=niz_nox.iloc[i,1:].fillna(niz_nox.iloc[i,1:].mean())\n",
    "    niz_pm10.iloc[i,1:]=niz_pm10.iloc[i,1:].fillna(niz_pm10.iloc[i,1:].mean())\n",
    "    niz_aqi.iloc[i,1:]=niz_aqi.iloc[i,1:].fillna(niz_aqi.iloc[i,1:].mean())"
   ]
  },
  {
   "cell_type": "markdown",
   "metadata": {},
   "source": [
    "### Reorganizing the data for a combined dataset."
   ]
  },
  {
   "cell_type": "code",
   "execution_count": 4,
   "metadata": {},
   "outputs": [],
   "source": [
    "niz_so2 = niz_so2.melt(id_vars=[\"Year\"], var_name=\"Month\", value_name=\"SO2\")\n",
    "niz_nox = niz_nox.melt(id_vars=[\"Year\"], var_name=\"Month\", value_name=\"NOX\")\n",
    "niz_pm10 = niz_pm10.melt(id_vars=[\"Year\"], var_name=\"Month\", value_name=\"PM10\")\n",
    "niz_aqi = niz_aqi.melt(id_vars=[\"Year\"], var_name=\"Month\", value_name=\"AQI\")"
   ]
  },
  {
   "cell_type": "markdown",
   "metadata": {},
   "source": [
    "### Organizing the data for better model usage"
   ]
  },
  {
   "cell_type": "code",
   "execution_count": 5,
   "metadata": {},
   "outputs": [
    {
     "data": {
      "text/html": [
       "<div>\n",
       "<style scoped>\n",
       "    .dataframe tbody tr th:only-of-type {\n",
       "        vertical-align: middle;\n",
       "    }\n",
       "\n",
       "    .dataframe tbody tr th {\n",
       "        vertical-align: top;\n",
       "    }\n",
       "\n",
       "    .dataframe thead th {\n",
       "        text-align: right;\n",
       "    }\n",
       "</style>\n",
       "<table border=\"1\" class=\"dataframe\">\n",
       "  <thead>\n",
       "    <tr style=\"text-align: right;\">\n",
       "      <th></th>\n",
       "      <th>PM10</th>\n",
       "      <th>NOX</th>\n",
       "      <th>SO2</th>\n",
       "      <th>AQI</th>\n",
       "    </tr>\n",
       "  </thead>\n",
       "  <tbody>\n",
       "    <tr>\n",
       "      <th>2016-01-01</th>\n",
       "      <td>67.0</td>\n",
       "      <td>18.857143</td>\n",
       "      <td>4.857143</td>\n",
       "      <td>62.333333</td>\n",
       "    </tr>\n",
       "    <tr>\n",
       "      <th>2016-02-01</th>\n",
       "      <td>64.0</td>\n",
       "      <td>18.857143</td>\n",
       "      <td>4.857143</td>\n",
       "      <td>63.666667</td>\n",
       "    </tr>\n",
       "    <tr>\n",
       "      <th>2016-03-01</th>\n",
       "      <td>66.0</td>\n",
       "      <td>18.857143</td>\n",
       "      <td>4.857143</td>\n",
       "      <td>66.333333</td>\n",
       "    </tr>\n",
       "    <tr>\n",
       "      <th>2016-04-01</th>\n",
       "      <td>68.0</td>\n",
       "      <td>18.857143</td>\n",
       "      <td>4.857143</td>\n",
       "      <td>68.333333</td>\n",
       "    </tr>\n",
       "    <tr>\n",
       "      <th>2016-05-01</th>\n",
       "      <td>71.0</td>\n",
       "      <td>18.857143</td>\n",
       "      <td>4.857143</td>\n",
       "      <td>68.666667</td>\n",
       "    </tr>\n",
       "    <tr>\n",
       "      <th>...</th>\n",
       "      <td>...</td>\n",
       "      <td>...</td>\n",
       "      <td>...</td>\n",
       "      <td>...</td>\n",
       "    </tr>\n",
       "    <tr>\n",
       "      <th>2021-08-01</th>\n",
       "      <td>45.0</td>\n",
       "      <td>22.400000</td>\n",
       "      <td>5.300000</td>\n",
       "      <td>45.000000</td>\n",
       "    </tr>\n",
       "    <tr>\n",
       "      <th>2021-09-01</th>\n",
       "      <td>43.0</td>\n",
       "      <td>23.100000</td>\n",
       "      <td>5.000000</td>\n",
       "      <td>43.000000</td>\n",
       "    </tr>\n",
       "    <tr>\n",
       "      <th>2021-10-01</th>\n",
       "      <td>59.0</td>\n",
       "      <td>27.300000</td>\n",
       "      <td>6.200000</td>\n",
       "      <td>59.000000</td>\n",
       "    </tr>\n",
       "    <tr>\n",
       "      <th>2021-11-01</th>\n",
       "      <td>66.0</td>\n",
       "      <td>26.700000</td>\n",
       "      <td>6.400000</td>\n",
       "      <td>66.000000</td>\n",
       "    </tr>\n",
       "    <tr>\n",
       "      <th>2021-12-01</th>\n",
       "      <td>57.0</td>\n",
       "      <td>25.500000</td>\n",
       "      <td>5.800000</td>\n",
       "      <td>56.740741</td>\n",
       "    </tr>\n",
       "  </tbody>\n",
       "</table>\n",
       "<p>72 rows × 4 columns</p>\n",
       "</div>"
      ],
      "text/plain": [
       "            PM10        NOX       SO2        AQI\n",
       "2016-01-01  67.0  18.857143  4.857143  62.333333\n",
       "2016-02-01  64.0  18.857143  4.857143  63.666667\n",
       "2016-03-01  66.0  18.857143  4.857143  66.333333\n",
       "2016-04-01  68.0  18.857143  4.857143  68.333333\n",
       "2016-05-01  71.0  18.857143  4.857143  68.666667\n",
       "...          ...        ...       ...        ...\n",
       "2021-08-01  45.0  22.400000  5.300000  45.000000\n",
       "2021-09-01  43.0  23.100000  5.000000  43.000000\n",
       "2021-10-01  59.0  27.300000  6.200000  59.000000\n",
       "2021-11-01  66.0  26.700000  6.400000  66.000000\n",
       "2021-12-01  57.0  25.500000  5.800000  56.740741\n",
       "\n",
       "[72 rows x 4 columns]"
      ]
     },
     "execution_count": 5,
     "metadata": {},
     "output_type": "execute_result"
    }
   ],
   "source": [
    "niz_poll = pd.merge(niz_pm10, niz_nox, on=['Month','Year'])\n",
    "niz_poll = pd.merge(niz_poll, niz_so2, on=['Month','Year'])\n",
    "niz_final=pd.merge(niz_poll,niz_aqi,on=['Month','Year'])\n",
    "niz_final.index = pd.to_datetime(niz_final['Year'].astype(str) + '-' + niz_final['Month'], format='%Y-%b')\n",
    "niz_final.drop(['Year', 'Month'], axis=1, inplace=True)\n",
    "niz_final=niz_final.sort_index()\n",
    "niz_final['2016':'2021']"
   ]
  },
  {
   "cell_type": "markdown",
   "metadata": {},
   "source": [
    "### Test Train Split"
   ]
  },
  {
   "cell_type": "code",
   "execution_count": 6,
   "metadata": {},
   "outputs": [],
   "source": [
    "X_=niz_final.iloc[:,:-1]\n",
    "y=niz_final.iloc[:,-1]"
   ]
  },
  {
   "cell_type": "code",
   "execution_count": 7,
   "metadata": {},
   "outputs": [],
   "source": [
    "#Scalling the Data to improve model perfomance and bring features into similar range\n",
    "ss=StandardScaler()\n",
    "X=ss.fit_transform(X_)\n",
    "X=pd.DataFrame(X,columns=niz_final.columns[:-1])"
   ]
  },
  {
   "cell_type": "code",
   "execution_count": 8,
   "metadata": {},
   "outputs": [],
   "source": [
    "from sklearn.model_selection import train_test_split\n",
    "X_train,X_test,y_train,y_test=train_test_split(X,y,random_state=66,test_size=0.25)"
   ]
  },
  {
   "cell_type": "markdown",
   "metadata": {},
   "source": [
    "### Perfoming Hyper-parameter tuning with comparison with other models"
   ]
  },
  {
   "cell_type": "code",
   "execution_count": 9,
   "metadata": {},
   "outputs": [],
   "source": [
    "#Listing Parameters\n",
    "\n",
    "rf_params = {'n_estimators': [500,300,100,800,1000], 'max_depth': [12,15,10,5,7,3]}\n",
    "\n",
    "lr_param_grid = {}\n",
    "\n",
    "svr_param_grid = {'kernel': ['linear', 'rbf'], 'C': [0.1, 1, 10], 'gamma': [0.1, 1, 10]}"
   ]
  },
  {
   "cell_type": "code",
   "execution_count": 10,
   "metadata": {},
   "outputs": [],
   "source": [
    "# create models\n",
    "rf_model = RandomForestRegressor(random_state=42)\n",
    "lr_model = LinearRegression()\n",
    "svr_model = SVR()"
   ]
  },
  {
   "cell_type": "code",
   "execution_count": 11,
   "metadata": {},
   "outputs": [],
   "source": [
    "# create GridSearchCV objects\n",
    "rf_grid = GridSearchCV(rf_model, rf_params, cv=5)\n",
    "lr_grid = GridSearchCV(lr_model, lr_param_grid)\n",
    "svr_grid = GridSearchCV(svr_model, svr_param_grid)"
   ]
  },
  {
   "cell_type": "code",
   "execution_count": 12,
   "metadata": {},
   "outputs": [
    {
     "data": {
      "text/plain": [
       "GridSearchCV(estimator=SVR(),\n",
       "             param_grid={'C': [0.1, 1, 10], 'gamma': [0.1, 1, 10],\n",
       "                         'kernel': ['linear', 'rbf']})"
      ]
     },
     "execution_count": 12,
     "metadata": {},
     "output_type": "execute_result"
    }
   ],
   "source": [
    "# fit the models\n",
    "rf_grid.fit(X_train, y_train)\n",
    "lr_grid.fit(X_train, y_train)\n",
    "svr_grid.fit(X_train, y_train)"
   ]
  },
  {
   "cell_type": "code",
   "execution_count": 13,
   "metadata": {},
   "outputs": [],
   "source": [
    "# get the best hyperparameters\n",
    "rf_best_params = rf_grid.best_params_\n",
    "lr_best_params = lr_grid.best_params_\n",
    "svr_best_params = svr_grid.best_params_"
   ]
  },
  {
   "cell_type": "code",
   "execution_count": 14,
   "metadata": {},
   "outputs": [],
   "source": [
    "# create new models with the best hyperparameters\n",
    "rf_best_model = RandomForestRegressor(**rf_best_params, random_state=42)\n",
    "lr_best_model = LinearRegression(**lr_best_params)\n",
    "svr_best_model = SVR(**svr_best_params)"
   ]
  },
  {
   "cell_type": "code",
   "execution_count": 15,
   "metadata": {},
   "outputs": [
    {
     "data": {
      "text/plain": [
       "SVR(C=10, gamma=0.1, kernel='linear')"
      ]
     },
     "execution_count": 15,
     "metadata": {},
     "output_type": "execute_result"
    }
   ],
   "source": [
    "# fit the best models\n",
    "rf_best_model.fit(X_train, y_train)\n",
    "lr_best_model.fit(X_train, y_train)\n",
    "svr_best_model.fit(X_train, y_train)"
   ]
  },
  {
   "cell_type": "code",
   "execution_count": 16,
   "metadata": {},
   "outputs": [],
   "source": [
    "# make predictions\n",
    "rf_preds = rf_best_model.predict(X_test)\n",
    "lr_preds = lr_best_model.predict(X_test)\n",
    "svr_preds = svr_best_model.predict(X_test)"
   ]
  },
  {
   "cell_type": "markdown",
   "metadata": {},
   "source": [
    "### Checking individual model performace"
   ]
  },
  {
   "cell_type": "code",
   "execution_count": 17,
   "metadata": {},
   "outputs": [
    {
     "name": "stdout",
     "output_type": "stream",
     "text": [
      "Random Forest R2 Score: 0.7048089653069679\n",
      "Linear Regression R2 Score: 0.8095658681712304\n",
      "Support Vector Regressor R2 Score: 0.8301594663408847\n"
     ]
    }
   ],
   "source": [
    "# calculate r2 scores\n",
    "\n",
    "rf_r2 = r2_score(y_test, rf_preds)\n",
    "print(f\"Random Forest R2 Score: {rf_r2}\")\n",
    "\n",
    "lr_r2 = r2_score(y_test, lr_preds)\n",
    "print(f\"Linear Regression R2 Score: {lr_r2}\")\n",
    "\n",
    "svr_r2 = r2_score(y_test, svr_preds)\n",
    "print(f\"Support Vector Regressor R2 Score: {svr_r2}\")"
   ]
  },
  {
   "cell_type": "markdown",
   "metadata": {},
   "source": [
    "### Checking Ridge and Lasso Regression and cross validation to prevent overfitting"
   ]
  },
  {
   "cell_type": "code",
   "execution_count": 18,
   "metadata": {},
   "outputs": [],
   "source": [
    "lr = LinearRegression()\n",
    "ridge = Ridge()\n",
    "lasso = Lasso()\n",
    "rf = RandomForestRegressor()\n",
    "svr = SVR()\n",
    "\n",
    "lr_params = {'normalize': [True, False]}\n",
    "ridge_params = {'alpha': [0.01, 0.1, 1, 10, 100]}\n",
    "lasso_params = {'alpha': [0.01, 0.1, 1, 10, 100]}\n",
    "rf_params = {'n_estimators': [500,300,100,800,1000], 'max_depth':[12,15,10,5,7,3] }\n",
    "svr_params = {'C': [0.1, 1, 10], 'gamma': [0.1, 1, 10], 'kernel': ['linear', 'rbf']}"
   ]
  },
  {
   "cell_type": "code",
   "execution_count": 19,
   "metadata": {},
   "outputs": [],
   "source": [
    "models = {'Linear Regression': (lr, lr_params),\n",
    "          'Ridge Regression': (ridge, ridge_params),\n",
    "          'Lasso Regression': (lasso, lasso_params),\n",
    "          'Random Forest Regression': (rf, rf_params),\n",
    "          'Support Vector Regression': (svr, svr_params)}"
   ]
  },
  {
   "cell_type": "code",
   "execution_count": 20,
   "metadata": {},
   "outputs": [
    {
     "name": "stdout",
     "output_type": "stream",
     "text": [
      "Linear Regression: 0.845 (±0.071)\n",
      "Ridge Regression: 0.782 (±0.009)\n",
      "Lasso Regression: 0.844 (±0.064)\n",
      "Random Forest Regression: 0.657 (±0.037)\n",
      "Support Vector Regression: 0.849 (±0.069)\n"
     ]
    }
   ],
   "source": [
    "models = {'Linear Regression': (lr, lr_params),\n",
    "          'Ridge Regression': (ridge, ridge_params),\n",
    "          'Lasso Regression': (lasso, lasso_params),\n",
    "          'Random Forest Regression': (rf, rf_params),\n",
    "          'Support Vector Regression': (svr, svr_params)}\n",
    "for name, (model, params) in models.items():\n",
    "    gs = GridSearchCV(model, params, cv=2,n_jobs=-1)\n",
    "    scores = cross_val_score(gs, X_test, y_test, cv=2, scoring='r2')\n",
    "    print(f'{name}: {scores.mean():.3f} (±{scores.std():.3f})')"
   ]
  },
  {
   "cell_type": "markdown",
   "metadata": {},
   "source": [
    "### Performing ensemble methods and full model accuracy"
   ]
  },
  {
   "cell_type": "code",
   "execution_count": 21,
   "metadata": {},
   "outputs": [],
   "source": [
    "import numpy as np\n",
    "f_pred=[]\n",
    "f_pred.append((rf_preds+lr_preds+svr_preds)/3)\n",
    "f_pred=np.array(f_pred)\n",
    "f_pred=f_pred.reshape(-1,1)"
   ]
  },
  {
   "cell_type": "code",
   "execution_count": 22,
   "metadata": {},
   "outputs": [
    {
     "name": "stdout",
     "output_type": "stream",
     "text": [
      " R2 Score: 0.8489642812825178\n",
      " Mean Absolute Percentage Error: 0.03522768098123049\n",
      "Mean Squared Error : 0.03522768098123049\n"
     ]
    }
   ],
   "source": [
    "rr2 = r2_score(y_test, f_pred)\n",
    "print(f\" R2 Score: {rr2}\")\n",
    "\n",
    "mape = mean_absolute_percentage_error(y_test, f_pred)\n",
    "print(f\" Mean Absolute Percentage Error: {mape}\")\n",
    "\n",
    "mse=mean_squared_error(y_test,f_pred)\n",
    "print(f\"Mean Squared Error : {mape}\")\n"
   ]
  },
  {
   "cell_type": "markdown",
   "metadata": {},
   "source": [
    "### Final Predictions\n"
   ]
  },
  {
   "cell_type": "code",
   "execution_count": 23,
   "metadata": {},
   "outputs": [],
   "source": [
    "loc=[]\n",
    "for i in f_pred:\n",
    "    if (i>=0) and i<=50:\n",
    "        loc.append('Good')\n",
    "    elif i>=51 and i<=100:\n",
    "        loc.append('Moderate')\n",
    "    elif i>=101 and i<=150:\n",
    "        loc.append('Unhealthy for Sensitive Groups')\n",
    "    elif i>=151 and i<=200:\n",
    "        loc.append('Unhealthy')\n",
    "    elif i>=201 and i<=300:\n",
    "        loc.append('Very Unhealthy')\n",
    "    else:\n",
    "        loc.append('Hazardous')\n",
    "y_test=pd.DataFrame(y_test)\n",
    "y_test['Level of Concern']=loc"
   ]
  },
  {
   "cell_type": "code",
   "execution_count": 24,
   "metadata": {},
   "outputs": [
    {
     "data": {
      "text/html": [
       "<div>\n",
       "<style scoped>\n",
       "    .dataframe tbody tr th:only-of-type {\n",
       "        vertical-align: middle;\n",
       "    }\n",
       "\n",
       "    .dataframe tbody tr th {\n",
       "        vertical-align: top;\n",
       "    }\n",
       "\n",
       "    .dataframe thead th {\n",
       "        text-align: right;\n",
       "    }\n",
       "</style>\n",
       "<table border=\"1\" class=\"dataframe\">\n",
       "  <thead>\n",
       "    <tr style=\"text-align: right;\">\n",
       "      <th></th>\n",
       "      <th>AQI</th>\n",
       "      <th>Level of Concern</th>\n",
       "    </tr>\n",
       "  </thead>\n",
       "  <tbody>\n",
       "    <tr>\n",
       "      <th>2019-08-01</th>\n",
       "      <td>70.555556</td>\n",
       "      <td>Moderate</td>\n",
       "    </tr>\n",
       "    <tr>\n",
       "      <th>2021-09-01</th>\n",
       "      <td>43.000000</td>\n",
       "      <td>Good</td>\n",
       "    </tr>\n",
       "    <tr>\n",
       "      <th>2017-04-01</th>\n",
       "      <td>67.370370</td>\n",
       "      <td>Moderate</td>\n",
       "    </tr>\n",
       "    <tr>\n",
       "      <th>2018-10-01</th>\n",
       "      <td>48.000000</td>\n",
       "      <td>Hazardous</td>\n",
       "    </tr>\n",
       "    <tr>\n",
       "      <th>2019-11-01</th>\n",
       "      <td>61.777778</td>\n",
       "      <td>Moderate</td>\n",
       "    </tr>\n",
       "    <tr>\n",
       "      <th>2020-01-01</th>\n",
       "      <td>64.000000</td>\n",
       "      <td>Moderate</td>\n",
       "    </tr>\n",
       "    <tr>\n",
       "      <th>2021-11-01</th>\n",
       "      <td>66.000000</td>\n",
       "      <td>Moderate</td>\n",
       "    </tr>\n",
       "    <tr>\n",
       "      <th>2020-05-01</th>\n",
       "      <td>50.000000</td>\n",
       "      <td>Moderate</td>\n",
       "    </tr>\n",
       "    <tr>\n",
       "      <th>2022-09-01</th>\n",
       "      <td>54.000000</td>\n",
       "      <td>Moderate</td>\n",
       "    </tr>\n",
       "    <tr>\n",
       "      <th>2022-02-01</th>\n",
       "      <td>59.000000</td>\n",
       "      <td>Moderate</td>\n",
       "    </tr>\n",
       "    <tr>\n",
       "      <th>2016-04-01</th>\n",
       "      <td>68.333333</td>\n",
       "      <td>Moderate</td>\n",
       "    </tr>\n",
       "    <tr>\n",
       "      <th>2022-12-01</th>\n",
       "      <td>59.000000</td>\n",
       "      <td>Moderate</td>\n",
       "    </tr>\n",
       "    <tr>\n",
       "      <th>2021-03-01</th>\n",
       "      <td>66.000000</td>\n",
       "      <td>Moderate</td>\n",
       "    </tr>\n",
       "    <tr>\n",
       "      <th>2016-09-01</th>\n",
       "      <td>56.444444</td>\n",
       "      <td>Moderate</td>\n",
       "    </tr>\n",
       "    <tr>\n",
       "      <th>2019-02-01</th>\n",
       "      <td>60.888889</td>\n",
       "      <td>Moderate</td>\n",
       "    </tr>\n",
       "    <tr>\n",
       "      <th>2019-03-01</th>\n",
       "      <td>61.148148</td>\n",
       "      <td>Moderate</td>\n",
       "    </tr>\n",
       "    <tr>\n",
       "      <th>2020-08-01</th>\n",
       "      <td>60.000000</td>\n",
       "      <td>Moderate</td>\n",
       "    </tr>\n",
       "    <tr>\n",
       "      <th>2021-12-01</th>\n",
       "      <td>56.740741</td>\n",
       "      <td>Moderate</td>\n",
       "    </tr>\n",
       "    <tr>\n",
       "      <th>2018-01-01</th>\n",
       "      <td>61.000000</td>\n",
       "      <td>Moderate</td>\n",
       "    </tr>\n",
       "    <tr>\n",
       "      <th>2019-06-01</th>\n",
       "      <td>68.888889</td>\n",
       "      <td>Moderate</td>\n",
       "    </tr>\n",
       "    <tr>\n",
       "      <th>2022-07-01</th>\n",
       "      <td>46.000000</td>\n",
       "      <td>Good</td>\n",
       "    </tr>\n",
       "  </tbody>\n",
       "</table>\n",
       "</div>"
      ],
      "text/plain": [
       "                  AQI Level of Concern\n",
       "2019-08-01  70.555556         Moderate\n",
       "2021-09-01  43.000000             Good\n",
       "2017-04-01  67.370370         Moderate\n",
       "2018-10-01  48.000000        Hazardous\n",
       "2019-11-01  61.777778         Moderate\n",
       "2020-01-01  64.000000         Moderate\n",
       "2021-11-01  66.000000         Moderate\n",
       "2020-05-01  50.000000         Moderate\n",
       "2022-09-01  54.000000         Moderate\n",
       "2022-02-01  59.000000         Moderate\n",
       "2016-04-01  68.333333         Moderate\n",
       "2022-12-01  59.000000         Moderate\n",
       "2021-03-01  66.000000         Moderate\n",
       "2016-09-01  56.444444         Moderate\n",
       "2019-02-01  60.888889         Moderate\n",
       "2019-03-01  61.148148         Moderate\n",
       "2020-08-01  60.000000         Moderate\n",
       "2021-12-01  56.740741         Moderate\n",
       "2018-01-01  61.000000         Moderate\n",
       "2019-06-01  68.888889         Moderate\n",
       "2022-07-01  46.000000             Good"
      ]
     },
     "execution_count": 24,
     "metadata": {},
     "output_type": "execute_result"
    }
   ],
   "source": [
    "y_test"
   ]
  },
  {
   "cell_type": "markdown",
   "metadata": {},
   "source": [
    "### Predictor function"
   ]
  },
  {
   "cell_type": "code",
   "execution_count": 25,
   "metadata": {},
   "outputs": [],
   "source": [
    "def predictor(df):\n",
    "    df=ss.transform(df.values)\n",
    "    rfp=rf_best_model.predict(df)\n",
    "    lrp=lr_best_model.predict(df)\n",
    "    svrp=svr_best_model.predict(df)\n",
    "    f_pred=[]\n",
    "    f_pred.append((rfp+lrp+svrp)/3)\n",
    "    f_pred=np.array(f_pred)\n",
    "    f_pred=f_pred.reshape(-1,1)\n",
    "    loc=[]\n",
    "    for i in f_pred:\n",
    "        if (i>=0) and i<=50:\n",
    "            loc.append('Good')\n",
    "        elif i>=51 and i<=100:\n",
    "            loc.append('Moderate')\n",
    "        elif i>=101 and i<=150:\n",
    "            loc.append('Unhealthy for Sensitive Groups')\n",
    "        elif i>=151 and i<=200:\n",
    "            loc.append('Unhealthy')\n",
    "        elif i>=201 and i<=300:\n",
    "            loc.append('Very Unhealthy')\n",
    "        else:\n",
    "            loc.append('Hazardous')\n",
    "    df_p=pd.DataFrame(f_pred,columns=['AQI'])\n",
    "    df_p['AQI']=f_pred\n",
    "    df_p['Level of Concern']=np.array(loc).reshape(-1,1)\n",
    "    print(df_p)\n",
    "    return df_p"
   ]
  },
  {
   "cell_type": "code",
   "execution_count": 26,
   "metadata": {},
   "outputs": [
    {
     "name": "stdout",
     "output_type": "stream",
     "text": [
      "          AQI Level of Concern\n",
      "0   56.845038         Moderate\n",
      "1   59.356672         Moderate\n",
      "2   65.489366         Moderate\n",
      "3   58.387081         Moderate\n",
      "4   56.930694         Moderate\n",
      "5   53.051480         Moderate\n",
      "6   47.828198             Good\n",
      "7   53.098181         Moderate\n",
      "8   52.833937         Moderate\n",
      "9   61.121499         Moderate\n",
      "10  56.947525         Moderate\n",
      "11  59.520000         Moderate\n"
     ]
    }
   ],
   "source": [
    "\n",
    "res=predictor(X_['2022'])"
   ]
  },
  {
   "cell_type": "code",
   "execution_count": 29,
   "metadata": {},
   "outputs": [
    {
     "name": "stdout",
     "output_type": "stream",
     "text": [
      "Mean Absolute Error: 0.9311346528366619\n",
      "Mean Squared Error: 1.1682990630185845\n",
      "Mean Absolute Percentage: 0.016665636792293305\n"
     ]
    }
   ],
   "source": [
    "print(\"Mean Absolute Error:\",mean_absolute_error(y['2022'],res['AQI']))\n",
    "print(\"Mean Squared Error:\",mean_squared_error(y['2022'],res['AQI']))\n",
    "print('Mean Absolute Percentage:',mean_absolute_percentage_error(y['2022'],res['AQI']))"
   ]
  },
  {
   "cell_type": "markdown",
   "metadata": {},
   "source": [
    "Predicting Future Pollutant values\n"
   ]
  },
  {
   "cell_type": "code",
   "execution_count": 30,
   "metadata": {},
   "outputs": [],
   "source": [
    "niz_so2.index = pd.to_datetime(niz_so2['Year'].astype(str) + '-' + niz_so2['Month'], format='%Y-%b')\n",
    "niz_so2.drop(['Year', 'Month'], axis=1, inplace=True)\n",
    "niz_so2=niz_so2.sort_index()"
   ]
  },
  {
   "cell_type": "code",
   "execution_count": 31,
   "metadata": {},
   "outputs": [],
   "source": [
    "niz_nox.index = pd.to_datetime(niz_nox['Year'].astype(str) + '-' + niz_nox['Month'], format='%Y-%b')\n",
    "niz_nox.drop(['Year', 'Month'], axis=1, inplace=True)\n",
    "niz_nox=niz_nox.sort_index()"
   ]
  },
  {
   "cell_type": "code",
   "execution_count": 32,
   "metadata": {},
   "outputs": [],
   "source": [
    "niz_pm10.index = pd.to_datetime(niz_pm10['Year'].astype(str) + '-' + niz_pm10['Month'], format='%Y-%b')\n",
    "niz_pm10.drop(['Year', 'Month'], axis=1, inplace=True)\n",
    "niz_pm10=niz_pm10.sort_index()"
   ]
  },
  {
   "cell_type": "code",
   "execution_count": 33,
   "metadata": {},
   "outputs": [
    {
     "name": "stderr",
     "output_type": "stream",
     "text": [
      "c:\\braindedmemory\\Programming\\anaconda3\\lib\\site-packages\\statsmodels\\tsa\\base\\tsa_model.py:471: ValueWarning: No frequency information was provided, so inferred frequency MS will be used.\n",
      "  self._init_dates(dates, freq)\n",
      "c:\\braindedmemory\\Programming\\anaconda3\\lib\\site-packages\\statsmodels\\tsa\\base\\tsa_model.py:471: ValueWarning: No frequency information was provided, so inferred frequency MS will be used.\n",
      "  self._init_dates(dates, freq)\n",
      "c:\\braindedmemory\\Programming\\anaconda3\\lib\\site-packages\\statsmodels\\tsa\\base\\tsa_model.py:471: ValueWarning: No frequency information was provided, so inferred frequency MS will be used.\n",
      "  self._init_dates(dates, freq)\n"
     ]
    }
   ],
   "source": [
    "#Performing exponential smoothing for the data to predict future dependent variables\n",
    "\n",
    "from statsmodels.tsa.api import ExponentialSmoothing\n",
    "model_so2= ExponentialSmoothing(niz_so2[:'2020'], trend='add', seasonal='mul')\n",
    "fit_so2 = model_so2.fit(optimized=True)\n",
    "fore_so2 = fit_so2.forecast(12)\n",
    "\n",
    "from statsmodels.tsa.api import ExponentialSmoothing\n",
    "model_nox= ExponentialSmoothing(niz_nox[:'2020'], trend='add', seasonal='mul')\n",
    "fit_nox = model_nox.fit(optimized=True)\n",
    "fore_nox = fit_nox.forecast(12)\n",
    "\n",
    "\n",
    "from statsmodels.tsa.api import ExponentialSmoothing\n",
    "model_pm10= ExponentialSmoothing(niz_pm10[:'2020'], trend='add', seasonal='mul')\n",
    "fit_pm10 = model_pm10.fit(optimized=True)\n",
    "fore_pm10 = fit_pm10.forecast(12)"
   ]
  },
  {
   "cell_type": "code",
   "execution_count": 34,
   "metadata": {},
   "outputs": [
    {
     "name": "stdout",
     "output_type": "stream",
     "text": [
      "Mean Absolute Error for so2: 0.32864689429605903\n",
      "Mean Absolute Error for nox: 1.9005767411529595\n",
      "MAPE for PM10: 5.638941170433765\n"
     ]
    }
   ],
   "source": [
    "#Accuracy\n",
    "from sklearn.metrics import mean_absolute_percentage_error,mean_absolute_error\n",
    "mae_so2 = mean_absolute_error(niz_so2['2021'],fore_so2['2021'] )\n",
    "print('Mean Absolute Error for so2:', mae_so2)\n",
    "mae_nox = mean_absolute_error(niz_nox['2022'],fore_nox )\n",
    "print('Mean Absolute Error for nox:', mae_nox)\n",
    "mae_pm10 = mean_absolute_error(niz_pm10['2022'],fore_pm10 )\n",
    "print('MAPE for PM10:', mae_pm10)"
   ]
  },
  {
   "cell_type": "code",
   "execution_count": 35,
   "metadata": {},
   "outputs": [
    {
     "data": {
      "text/html": [
       "<div>\n",
       "<style scoped>\n",
       "    .dataframe tbody tr th:only-of-type {\n",
       "        vertical-align: middle;\n",
       "    }\n",
       "\n",
       "    .dataframe tbody tr th {\n",
       "        vertical-align: top;\n",
       "    }\n",
       "\n",
       "    .dataframe thead th {\n",
       "        text-align: right;\n",
       "    }\n",
       "</style>\n",
       "<table border=\"1\" class=\"dataframe\">\n",
       "  <thead>\n",
       "    <tr style=\"text-align: right;\">\n",
       "      <th></th>\n",
       "      <th>SO2</th>\n",
       "      <th>NOX</th>\n",
       "      <th>PM10</th>\n",
       "    </tr>\n",
       "  </thead>\n",
       "  <tbody>\n",
       "    <tr>\n",
       "      <th>2021-01-01</th>\n",
       "      <td>5.978130</td>\n",
       "      <td>5.978130</td>\n",
       "      <td>61.962300</td>\n",
       "    </tr>\n",
       "    <tr>\n",
       "      <th>2021-02-01</th>\n",
       "      <td>6.005965</td>\n",
       "      <td>6.005965</td>\n",
       "      <td>60.971072</td>\n",
       "    </tr>\n",
       "    <tr>\n",
       "      <th>2021-03-01</th>\n",
       "      <td>5.959960</td>\n",
       "      <td>5.959960</td>\n",
       "      <td>62.776207</td>\n",
       "    </tr>\n",
       "    <tr>\n",
       "      <th>2021-04-01</th>\n",
       "      <td>5.963667</td>\n",
       "      <td>5.963667</td>\n",
       "      <td>64.958080</td>\n",
       "    </tr>\n",
       "    <tr>\n",
       "      <th>2021-05-01</th>\n",
       "      <td>5.944375</td>\n",
       "      <td>5.944375</td>\n",
       "      <td>61.596362</td>\n",
       "    </tr>\n",
       "    <tr>\n",
       "      <th>2021-06-01</th>\n",
       "      <td>5.716075</td>\n",
       "      <td>5.716075</td>\n",
       "      <td>60.220693</td>\n",
       "    </tr>\n",
       "    <tr>\n",
       "      <th>2021-07-01</th>\n",
       "      <td>5.667271</td>\n",
       "      <td>5.667271</td>\n",
       "      <td>59.272349</td>\n",
       "    </tr>\n",
       "    <tr>\n",
       "      <th>2021-08-01</th>\n",
       "      <td>5.564220</td>\n",
       "      <td>5.564220</td>\n",
       "      <td>59.769461</td>\n",
       "    </tr>\n",
       "    <tr>\n",
       "      <th>2021-09-01</th>\n",
       "      <td>5.693629</td>\n",
       "      <td>5.693629</td>\n",
       "      <td>59.572024</td>\n",
       "    </tr>\n",
       "    <tr>\n",
       "      <th>2021-10-01</th>\n",
       "      <td>6.273429</td>\n",
       "      <td>6.273429</td>\n",
       "      <td>58.785554</td>\n",
       "    </tr>\n",
       "    <tr>\n",
       "      <th>2021-11-01</th>\n",
       "      <td>6.056963</td>\n",
       "      <td>6.056963</td>\n",
       "      <td>59.177161</td>\n",
       "    </tr>\n",
       "    <tr>\n",
       "      <th>2021-12-01</th>\n",
       "      <td>6.220932</td>\n",
       "      <td>6.220932</td>\n",
       "      <td>62.729555</td>\n",
       "    </tr>\n",
       "  </tbody>\n",
       "</table>\n",
       "</div>"
      ],
      "text/plain": [
       "                 SO2       NOX       PM10\n",
       "2021-01-01  5.978130  5.978130  61.962300\n",
       "2021-02-01  6.005965  6.005965  60.971072\n",
       "2021-03-01  5.959960  5.959960  62.776207\n",
       "2021-04-01  5.963667  5.963667  64.958080\n",
       "2021-05-01  5.944375  5.944375  61.596362\n",
       "2021-06-01  5.716075  5.716075  60.220693\n",
       "2021-07-01  5.667271  5.667271  59.272349\n",
       "2021-08-01  5.564220  5.564220  59.769461\n",
       "2021-09-01  5.693629  5.693629  59.572024\n",
       "2021-10-01  6.273429  6.273429  58.785554\n",
       "2021-11-01  6.056963  6.056963  59.177161\n",
       "2021-12-01  6.220932  6.220932  62.729555"
      ]
     },
     "execution_count": 35,
     "metadata": {},
     "output_type": "execute_result"
    }
   ],
   "source": [
    "forecast_df=pd.DataFrame(fore_so2,columns=['SO2'])\n",
    "forecast_df['NOX']=fore_so2\n",
    "forecast_df['PM10']=fore_pm10\n",
    "forecast_df"
   ]
  },
  {
   "cell_type": "code",
   "execution_count": 36,
   "metadata": {},
   "outputs": [
    {
     "name": "stdout",
     "output_type": "stream",
     "text": [
      "          AQI Level of Concern\n",
      "0   20.453248             Good\n",
      "1   20.390425             Good\n",
      "2   20.508834             Good\n",
      "3   20.702611             Good\n",
      "4   20.392451             Good\n",
      "5   20.077293             Good\n",
      "6   19.952764             Good\n",
      "7   19.908183             Good\n",
      "8   20.001455             Good\n",
      "9   20.427922             Good\n",
      "10  20.277262             Good\n",
      "11  20.727640             Good\n"
     ]
    }
   ],
   "source": [
    "final_pred=predictor(forecast_df)"
   ]
  },
  {
   "cell_type": "code",
   "execution_count": 37,
   "metadata": {},
   "outputs": [],
   "source": [
    "final_pred.to_csv('Nizamabad2023.csv')"
   ]
  }
 ],
 "metadata": {
  "interpreter": {
   "hash": "5b124afded074c70b1168b021b33622efccdf1097854b00f22ff1bd7656ffa95"
  },
  "kernelspec": {
   "display_name": "Python 3.9.12 ('base')",
   "language": "python",
   "name": "python3"
  },
  "language_info": {
   "codemirror_mode": {
    "name": "ipython",
    "version": 3
   },
   "file_extension": ".py",
   "mimetype": "text/x-python",
   "name": "python",
   "nbconvert_exporter": "python",
   "pygments_lexer": "ipython3",
   "version": "3.9.12"
  },
  "orig_nbformat": 4
 },
 "nbformat": 4,
 "nbformat_minor": 2
}
